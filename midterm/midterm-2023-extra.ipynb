{
  "cells": [
    {
      "cell_type": "markdown",
      "metadata": {
        "id": "gx-07ogafCLL"
      },
      "source": [
        "# Extra Credit\n",
        "\n",
        "For upto an additional 15 extra credit points on the midterm exam, you can write another function that applies additional criteria on top of what the midterm already did.  To earn the addition points, you need write a function called `summarize_results(patients)` to take the output of your  `process_people()` function to apply a new business rule and summarize the results.\n",
        "\n",
        "* Your function should take the dictionary created by `process_people()` as it's one input parameter: `patients`.\n",
        "* If the PRIEST probably is less than 10%, change the `hospital` and `address` to both have a value of `'Home'` indicating patients with a lower probability of an adverse outcome can just go home rather than be admitted to a hospital.\n",
        "* Summarize those results and count how many patients are now being sent to each location.  Your result should have the following format:\n",
        "```\n",
        "{\n",
        "    \"Home\": 123,\n",
        "    \"Hospital A\": 10,\n",
        "    \"Hospital B\": 20,\n",
        "    \"Hospital C\": 30\n",
        "}\n",
        "```\n",
        "\n",
        "As always, your function needs good docstrings; but does not require any doctests in this case."
      ]
    },
    {
      "cell_type": "code",
      "execution_count": 1,
      "metadata": {
        "id": "CDBiUJknfCLO"
      },
      "outputs": [],
      "source": [
        "## As our both data were same I am using the data from the link as my created data.\n",
        "import requests\n",
        "import json\n",
        "url='https://hds5210-data.s3.amazonaws.com/people_results.json'\n",
        "check=requests.get(url)\n",
        "\n",
        "## We are creating a new file called people_results.json in write mode as results.\n",
        "\n",
        "## Now we are writing each and every data in that json file\n",
        "with open('people_results.json','w') as results:\n",
        "  results.write(check.text)\n",
        "\n",
        "# Now locally saved json file is loaded through json module in result.\n",
        "patients=json.load(open('people_results.json'))"
      ]
    },
    {
      "cell_type": "code",
      "execution_count": 2,
      "metadata": {
        "colab": {
          "base_uri": "https://localhost:8080/"
        },
        "id": "1UraNR_ffCLP",
        "outputId": "08cd17fd-adc2-430d-d514-2bc847ded879"
      },
      "outputs": [
        {
          "output_type": "execute_result",
          "data": {
            "text/plain": [
              "{'Southwest Hospital and Medical Center': 16,\n",
              " 'Hughes Spalding Childrens Hospital': 1,\n",
              " 'Select Specialty Hospital - Northeast Atlanta': 32,\n",
              " 'Wesley Woods Geriatric Hospital': 20,\n",
              " 'Emory Dunwoody Medical Center': 5,\n",
              " 'Home': 24,\n",
              " 'Childrens Healthcare of Atlanta at Scottish Rite': 1}"
            ]
          },
          "metadata": {},
          "execution_count": 2
        }
      ],
      "source": [
        "def summarize_results(patients):\n",
        "  hospital_list=[]   ## Here I am going to create an empty list for appending all the hospitals in this list.\n",
        "  hospital_dict={}   ## Here created a dictionary where key will be hospital and value will be count of hospitals.\n",
        "  for patient,patient_details in patients.items():\n",
        "    ## Here I created a for loop and accessed the items in patients.\n",
        "\n",
        "    if patient_details[10]<0.1:\n",
        "      ## This is the condition where priest score < 0.1\n",
        "      if len(patient_details)==12:\n",
        "        ## Here we have list where it's size is 12 and we need to remove 11th index element and then we need to insert in ascending order i.e 11 after 12\n",
        "        patients[patient].remove(patient_details[11])\n",
        "        patients[patient].insert(11,'Home')\n",
        "        patients[patient].insert(12,'Home')\n",
        "        ## Where as for removing we need to remove in descending order.\n",
        "      elif len(patient_details)==13:\n",
        "        patients[patient].remove(patient_details[12])\n",
        "        patients[patient].remove(patient_details[11])\n",
        "        patients[patient].insert(11,'Home')\n",
        "        patients[patient].insert(12,'Home')\n",
        "      elif len(patient_details)==11:\n",
        "        patients[patient].insert(11,'Home')\n",
        "        patients[patient].insert(12,'Home')\n",
        "\n",
        "    ## Now we are appending all the hospitals and home to a list from patient dictionary.\n",
        "    hospital_list.append(patient_details[11])\n",
        "\n",
        "  ## Now we are using set function to obtain unique hospital names.\n",
        "  hospital_set=set(hospital_list)\n",
        "\n",
        "  ## Now we are creating for loop and count variable to count hospitals in the dictionary.\n",
        "  for hospital in hospital_set:\n",
        "    count=0\n",
        "    ## Now we are again accessing the dictionary to obtain hospitals.\n",
        "    for patient,patient_details in patients.items():\n",
        "\n",
        "      ## here we are using a function if the hospital matches with 11th index in individual patient list then the following action will happen. i.e. counting.\n",
        "      if hospital==patient_details[11]:\n",
        "        count+=1\n",
        "    ## Atlast using empty dictionary we are creating keys as hospital and values as no. of patients.\n",
        "    hospital_dict[hospital]=count\n",
        "  return hospital_dict\n",
        "summarize_results(patients)\n",
        "\n",
        "\n",
        "\n"
      ]
    },
    {
      "cell_type": "code",
      "source": [],
      "metadata": {
        "id": "aUV-LW1Ip-Kz"
      },
      "execution_count": 2,
      "outputs": []
    }
  ],
  "metadata": {
    "kernelspec": {
      "display_name": ".venv",
      "language": "python",
      "name": "python3"
    },
    "language_info": {
      "codemirror_mode": {
        "name": "ipython",
        "version": 3
      },
      "file_extension": ".py",
      "mimetype": "text/x-python",
      "name": "python",
      "nbconvert_exporter": "python",
      "pygments_lexer": "ipython3",
      "version": "3.9.16"
    },
    "colab": {
      "provenance": []
    }
  },
  "nbformat": 4,
  "nbformat_minor": 0
}