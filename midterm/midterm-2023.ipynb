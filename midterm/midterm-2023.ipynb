{
  "cells": [
    {
      "cell_type": "markdown",
      "metadata": {
        "id": "G4vjc53zlPtz"
      },
      "source": [
        "# HDS5210-2022 Midterm\n",
        "\n",
        "In the midterm, you're going to use all the programming and data management skills you've developed so far to build a risk calculator that pretends to be integrated with a clinical registry.  You'll compute the PRIEST COVID-19 Clinical Severity Score for a series of patients and, based on their risk of an adverse outcome, query a REST web service to find a hospital to transfer them to. The end result of your work will be a list of instructions on where each patient should be discharged given their risk and various characteristics of the patient.\n",
        "\n",
        "Each step in the midterm will build up to form your complete solution.\n",
        "\n",
        "**Make sure you write good docstrings and doctests along the way!!**\n",
        "\n",
        "**The midterm is due at 11:59 PM CST on Monday, October 23rd.**\n",
        "\n",
        "---"
      ]
    },
    {
      "cell_type": "markdown",
      "metadata": {
        "id": "xUv8zY-4lPt2"
      },
      "source": [
        "## Step 1: Calculate PRIEST Clinical Severity Score\n",
        "\n",
        "This scoring algorithm can be found [here on the MDCalc website](https://www.mdcalc.com/priest-covid-19-clinical-severity-score#evidence).  \n",
        "\n",
        "1. You will need to write a function called **priest()** with the following input parameters.  \n",
        " * Sex (Gender assigned at birth)\n",
        " * Age in years\n",
        " * Respiratory rate in breaths per minute\n",
        " * Oxygen saturation as a percent between 0 and 1\n",
        " * Heart rate in beats per minute\n",
        " * Systolic BP in mmHg\n",
        " * Temperature in degrees C\n",
        " * Alertness as a string description\n",
        " * Inspired Oxygen as as string description\n",
        " * Performance Status as a string description\n",
        "2. The function will need to follow the algorithm provided on the MDCalc website to compute a risk percentage that should be returned as a numeric value between 0 and 1.\n",
        "3. Be sure to use docstring documentation and at least three built-in docstring test cases.\n",
        "4. Assume that the input values that are strings could be any combination of upper or lower case. For example: 'male', 'Male', 'MALE', 'MalE' should all be interpretted by your code as male.\n",
        "5. If any of the inputs are invalid (for example a sex value that is not recognizable as male or female) your code should return None.\n",
        "\n",
        "NOTES:\n",
        "1. In the final step there is a table that translates from **PRIEST Score** to **30-day probability of an outcome** but the last two probabilities are shown as ranges (59-88% and >99%).  Our code needs to output a single number, however. For our code, use the following rule:\n",
        " * If PRIEST score is between 17 and 25, the probability you return should be 0.59\n",
        " * If PRIEST score is greater than or equal to 26, the probability you return should be 0.99\n"
      ]
    },
    {
      "cell_type": "code",
      "execution_count": 1,
      "metadata": {
        "id": "UqLA7y0MlPt2"
      },
      "outputs": [],
      "source": [
        "def priest(sex='male',\n",
        "       age=40,\n",
        "       respiratory_rate=18.0,\n",
        "       oxygen_saturation=0.99,\n",
        "       heart_rate=65.0,\n",
        "       systolic_bp=125.0,\n",
        "       temperature=36.2,\n",
        "       alertness='ALERT',\n",
        "       inspired_oxygen='AIR',\n",
        "       performance_status=\t'limited self-care'):\n",
        "  \"\"\"\n",
        "\n",
        "  ((str),(int),(float),(float),(float),(float),(float),(str),(str),(str)) -> float\n",
        "  here we are are defining to calculate priest score for covid patients. we defined the priest with above parameters. We defaultly kept their values on the above. we dont know how they gonna give their inputs,\n",
        "  so we are lowering the textcase and getting the inputs in their following variables. Now we are assigning score as zero. Now we start conditioning of every parameter according to the site. if the condition\n",
        "  satisfied then we increment the score as they said in the site. I also did temperature in two conversions. If the temperature is in centigrade then we do scoring as per that and if temperature is greater than\n",
        "  90 then we consider it as farenheit scale and do conversion by this formulae (temperature-32)*5/9 then we get the temperature in centigrade and do score as usual. we kept a condition that sex should be only male and\n",
        "  female and also if spelling was wrong then it has to give output as None. I also kept condition if other than mentioned condition came as input then the result will be None.\n",
        "\n",
        "  ------Note------\n",
        "  In the below score for age below 16 is also zero so I am modifying the code in age that age>0 and age<50 the score is zero\n",
        "\n",
        "  >>> priest('female',32,19,0.95,82,130,96.2,'AlErt','AIr','limited self-care')\n",
        "  0.09\n",
        "\n",
        "  >>> priest('Male',56,26,0.92,105,160,39.8,'Supplemental oxygen','bed/chair bound, no self-care')\n",
        "  0.47\n",
        "\n",
        "  >>> priest('male',5,16,0.85,100,120,94.2,'Air','limited activity, can self-care')\n",
        "  0.34\n",
        "\n",
        "  >>> priest()\n",
        "  0.03\n",
        "\n",
        "  this will return normal output because we are using default values in priest score interpretation\n",
        "\n",
        "  \"\"\"\n",
        "  sex=sex.lower()\n",
        "  alertness=alertness.lower()\n",
        "  inspired_oxygen=inspired_oxygen.lower()\n",
        "  performance_status=performance_status.lower()\n",
        "  if sex!='male' and sex!='female':\n",
        "    return None\n",
        "\n",
        "  score=0\n",
        "  ## SEX ##\n",
        "  if sex=='male':\n",
        "    score+=1\n",
        "\n",
        "  elif sex=='female':\n",
        "    score+0\n",
        "\n",
        "  ## AGE ##\n",
        "  if age is float()==False and age is int()==False:\n",
        "    return None\n",
        "  if age>0 and age<50:\n",
        "    score+=0\n",
        "\n",
        "  elif age>=50 and age<66:\n",
        "    score+=2\n",
        "\n",
        "  elif age>=66 and age<81:\n",
        "    score+=3\n",
        "\n",
        "  elif age>80:\n",
        "    score+=4\n",
        "\n",
        "  else:\n",
        "    return None\n",
        "\n",
        "  ## Respiratory Rate ##\n",
        "  if respiratory_rate<9:\n",
        "    score+=3\n",
        "\n",
        "  elif respiratory_rate>=9 and respiratory_rate<12:\n",
        "    score+=1\n",
        "\n",
        "  elif respiratory_rate>=12 and respiratory_rate<21:\n",
        "    score+=0\n",
        "\n",
        "  elif respiratory_rate>=21 and respiratory_rate<25:\n",
        "    score+=2\n",
        "\n",
        "  elif respiratory_rate>24:\n",
        "    score+=3\n",
        "\n",
        "  ## O2 Saturation\n",
        "  if oxygen_saturation>1:\n",
        "    oxygen_saturation=oxygen_saturation/100\n",
        "\n",
        "  if oxygen_saturation >0.95:\n",
        "    score+=0\n",
        "\n",
        "  elif oxygen_saturation>=0.94 and oxygen_saturation<=0.95:\n",
        "    score+=1\n",
        "\n",
        "  elif oxygen_saturation>=0.92 and oxygen_saturation<=0.93:\n",
        "    score+=2\n",
        "\n",
        "  elif oxygen_saturation<0.92:\n",
        "    score+=3\n",
        "\n",
        "  ## Heart Rate\n",
        "\n",
        "  if heart_rate<41:\n",
        "    score+=3\n",
        "\n",
        "  elif heart_rate>=41 and heart_rate<=50:\n",
        "    score+=1\n",
        "\n",
        "  elif heart_rate>=51 and heart_rate<=90:\n",
        "    score+=0\n",
        "\n",
        "  elif heart_rate>=91 and heart_rate<=110:\n",
        "    score+=1\n",
        "\n",
        "  elif heart_rate>=111 and heart_rate<=130:\n",
        "    score+=2\n",
        "\n",
        "  elif heart_rate>130:\n",
        "    score+=3\n",
        "\n",
        "  ## Systolic BP\n",
        "\n",
        "  if systolic_bp<91:\n",
        "    score+=3\n",
        "\n",
        "  elif systolic_bp>=91 and systolic_bp<=100:\n",
        "    score+=2\n",
        "\n",
        "  elif systolic_bp>=101 and systolic_bp<=110:\n",
        "    score+=1\n",
        "\n",
        "  elif systolic_bp>=111 and systolic_bp<=219:\n",
        "    score+=0\n",
        "\n",
        "  elif systolic_bp>219:\n",
        "    score+=3\n",
        "\n",
        "  ## Temperature\n",
        "  if temperature <35.1:\n",
        "    score+=3\n",
        "\n",
        "  elif temperature>=35.1 and temperature<=36.0:\n",
        "    score+=1\n",
        "\n",
        "  elif temperature>=36.1 and temperature<=38.0:\n",
        "    score+=0\n",
        "\n",
        "  elif temperature>=38.1 and temperature<=39.0:\n",
        "    score+=1\n",
        "\n",
        "  elif temperature>39.0 and temperature<91 :\n",
        "    score+=2\n",
        "\n",
        "  ### if temperature is given in farenheit scale\n",
        "  elif temperature>90:\n",
        "    temperature=(temperature-32)*(5/9)\n",
        "\n",
        "    if temperature <35.1:\n",
        "      score+=3\n",
        "\n",
        "    elif temperature>=35.1 and temperature<=36.0:\n",
        "      score+=1\n",
        "\n",
        "    elif temperature>=36.1 and temperature<=38.0:\n",
        "      score+=0\n",
        "\n",
        "    elif temperature>=38.1 and temperature<=39.0:\n",
        "      score+=1\n",
        "\n",
        "    elif temperature>39.0:\n",
        "      score+=2\n",
        "\n",
        "\n",
        "  ## Patient Alertness\n",
        "\n",
        "  if alertness=='alert':\n",
        "    score+=0\n",
        "\n",
        "  elif alertness=='confused or not alert':\n",
        "    score+=3\n",
        "\n",
        "  ## Inspired Oxygen\n",
        "\n",
        "  if inspired_oxygen=='air':\n",
        "    score+=0\n",
        "\n",
        "  elif inspired_oxygen=='supplemental oxygen':\n",
        "    score+=2\n",
        "\n",
        "\n",
        "  ## Performance Status\n",
        "\n",
        "  if performance_status=='unrestricted normal activity':\n",
        "    score+=0\n",
        "\n",
        "  elif performance_status=='limited strenuous activity, can do light activity':\n",
        "    score+=1\n",
        "\n",
        "  elif performance_status=='limited activity, can self-care':\n",
        "    score+=2\n",
        "\n",
        "  elif performance_status=='limited self-care':\n",
        "    score+=3\n",
        "\n",
        "  elif performance_status=='bed/chair bound, no self-care':\n",
        "    score+=4\n",
        "\n",
        "\n",
        "    ## Percentage\n",
        "\n",
        "  if score==0 or score==1:\n",
        "    percentage=0.01\n",
        "\n",
        "  elif score==2 or score==3:\n",
        "    percentage=0.02\n",
        "\n",
        "  elif score==4:\n",
        "    percentage=0.03\n",
        "\n",
        "  elif score==5:\n",
        "    percentage=0.09\n",
        "\n",
        "  elif score==6:\n",
        "    percentage=0.15\n",
        "\n",
        "  elif score==7:\n",
        "    percentage=0.18\n",
        "\n",
        "  elif score==8:\n",
        "    percentage=0.22\n",
        "\n",
        "  elif score==9:\n",
        "    percentage=0.26\n",
        "\n",
        "  elif score==10:\n",
        "    percentage=0.29\n",
        "\n",
        "  elif score==11:\n",
        "    percentage=0.34\n",
        "\n",
        "  elif score==12:\n",
        "    percentage=0.38\n",
        "\n",
        "  elif score==13:\n",
        "    percentage=0.46\n",
        "\n",
        "  elif score==14:\n",
        "    percentage=0.47\n",
        "\n",
        "  elif score==15:\n",
        "    percentage=0.49\n",
        "\n",
        "  elif score==16:\n",
        "    percentage=0.55\n",
        "\n",
        "  elif score>=17 and score<=25:\n",
        "    percentage=0.59\n",
        "\n",
        "  elif score>=26:\n",
        "    percentage=0.99\n",
        "\n",
        "  return percentage\n"
      ]
    },
    {
      "cell_type": "code",
      "source": [],
      "metadata": {
        "id": "Mvl8I7Uf6dua"
      },
      "execution_count": 1,
      "outputs": []
    },
    {
      "cell_type": "code",
      "execution_count": 2,
      "metadata": {
        "colab": {
          "base_uri": "https://localhost:8080/"
        },
        "id": "cQAUgCuGlPt3",
        "outputId": "1f3788ae-2ce8-4237-ae4a-1346f08136c1"
      },
      "outputs": [
        {
          "output_type": "stream",
          "name": "stderr",
          "text": [
            "\n",
            "PYDEV DEBUGGER WARNING:\n",
            "sys.settrace() should not be used when the debugger is being used.\n",
            "This may cause the debugger to stop working correctly.\n",
            "If this is needed, please check: \n",
            "http://pydev.blogspot.com/2007/06/why-cant-pydev-debugger-work-with.html\n",
            "to see how to restore the debug tracing back correctly.\n",
            "Call Location:\n",
            "  File \"/usr/lib/python3.10/doctest.py\", line 1501, in run\n",
            "    sys.settrace(save_trace)\n",
            "\n"
          ]
        },
        {
          "output_type": "stream",
          "name": "stdout",
          "text": [
            "Finding tests in NoName\n",
            "Trying:\n",
            "    priest('female',32,19,0.95,82,130,96.2,'AlErt','AIr','limited self-care')\n",
            "Expecting:\n",
            "    0.09\n",
            "ok\n",
            "Trying:\n",
            "    priest('Male',56,26,0.92,105,160,39.8,'Supplemental oxygen','bed/chair bound, no self-care')\n",
            "Expecting:\n",
            "    0.47\n",
            "ok\n",
            "Trying:\n",
            "    priest('male',5,16,0.85,100,120,94.2,'Air','limited activity, can self-care')\n",
            "Expecting:\n",
            "    0.34\n",
            "ok\n",
            "Trying:\n",
            "    priest()     \n",
            "Expecting:\n",
            "    0.03\n",
            "ok\n"
          ]
        }
      ],
      "source": [
        "import doctest\n",
        "doctest.run_docstring_examples(priest, globals(),verbose=True)"
      ]
    },
    {
      "cell_type": "markdown",
      "metadata": {
        "id": "mDGYLzQBlPt4"
      },
      "source": [
        "## Part 2: Find a hospital\n",
        "\n",
        "The next thing we have to do is figure out where to send this particular patient.  The guidelines on where to send a patient are based on their age (pediatric, adult, geriatric), sex, and risk percentage.  Luckily, you don't have to implement these rules. I already have. All you have to do is use a REST web service that I've created for you.\n",
        "\n",
        "You'll want to use Python to make a call to my REST web service similar to the example URL below. The first part of the URL will be the same for everyone and every request that you make. What you will need to modify for each of your requests is the information after the question mark.\n",
        "\n",
        "```\n",
        "https://oumdj6oci2.execute-api.us-east-1.amazonaws.com/prd/?age=40&sex=male&risk_pct=0.1\n",
        "```\n",
        "\n",
        "The example above asks my web service where a 40-year old male with a risk of 10% should go.  What the web service will return back is a JSON string containing the information you need.  That JSON will look like this:\n",
        "\n",
        "```json\n",
        "{\n",
        "  \"age\": \"40\",\n",
        "  \"sex\": \"male\",\n",
        "  \"risk\": \"0.1\",\n",
        "  \"hospital\": \"Southwest Hospital and Medical Center\"\n",
        "}\n",
        "```\n",
        "\n",
        "My function is not smart enough to understand `'MALE'` is the same as `'male'`.  You have to send it exactly `'male'` or `'female'`\n",
        "\n",
        "1. Your job is to write a function called **find_hospital()** that takes age, sex, and risk as parameters.\n",
        "2. Your function should call this REST web service using the `requests` module\n",
        "3. Then your function will need to interpret the JSON it gets and return just the name of the hospital\n",
        "4. If anything fails, return None\n",
        "5. Include a good docstring with at least three test cases.\n"
      ]
    },
    {
      "cell_type": "code",
      "execution_count": 3,
      "metadata": {
        "id": "nyZDHdzRlPt4"
      },
      "outputs": [],
      "source": [
        "## Here we are importing requests module and using get to import files from website we were creating the a\n",
        "import requests\n",
        "data=requests.get('https://oumdj6oci2.execute-api.us-east-1.amazonaws.com/prd/?age=40&sex=male&risk_pct=0.1')"
      ]
    },
    {
      "cell_type": "code",
      "source": [
        "## This is the the way to import the json file on importing json file we get output as dictionary\n",
        "import json\n",
        "data=json.loads(data.text)\n",
        "data"
      ],
      "metadata": {
        "colab": {
          "base_uri": "https://localhost:8080/"
        },
        "id": "_TbOabJxInng",
        "outputId": "38da31b6-cbf3-41e7-8e90-1454869f2955"
      },
      "execution_count": 4,
      "outputs": [
        {
          "output_type": "execute_result",
          "data": {
            "text/plain": [
              "{'age': '40',\n",
              " 'sex': 'male',\n",
              " 'risk': '0.1',\n",
              " 'hospital': 'Southwest Hospital and Medical Center'}"
            ]
          },
          "metadata": {},
          "execution_count": 4
        }
      ]
    },
    {
      "cell_type": "code",
      "source": [
        "## Here we defining a function named find_hospital to obtain hospital of patient with following  parameters\n",
        "def find_hospital(age=55,sex='Male',risk=0.55):\n",
        "  \"\"\"\n",
        "\n",
        "  ((int),(str),(float)) -> str\n",
        "  Here we defined a function to obtain hospital of the patient using patient age, sex and risk parameters. here we used format function because different url has different informations, the url changes when the\n",
        "  sex age and risk in url changes. We are going to change the values in the url using this format function. we obtained a url with our input parameter that are already created before. on obtaining the data from\n",
        "  url using requests module. now using json I loaded the response text.\n",
        "\n",
        "  I kept conditions to obtain none if sex is other than male or female or if risk >0.99 or risk<0.01 or risk== None.\n",
        "\n",
        "  >>> find_hospital(age=20,sex='female',risk=0.06)\n",
        "  'Select Specialty Hospital - Northeast Atlanta'\n",
        "\n",
        "  >>> find_hospital(age=50,sex='male',risk=0.50)\n",
        "  'Emory Dunwoody Medical Center'\n",
        "\n",
        "  >>> find_hospital(age=90,sex='unknown',risk=0.8)==None\n",
        "  True\n",
        "\n",
        "  \"\"\"\n",
        "  data=requests.get(f'https://oumdj6oci2.execute-api.us-east-1.amazonaws.com/prd/?age={age}&sex={sex}&risk_pct={risk}')\n",
        "  sex=sex.lower()\n",
        "  patient_data=json.loads(data.text)\n",
        "  if sex!='male' and sex!='female':\n",
        "    return None\n",
        "  elif risk>0.99 or risk<0.01 or risk==None:\n",
        "    return None\n",
        "  else:\n",
        "    return patient_data['hospital']\n",
        "\n"
      ],
      "metadata": {
        "id": "9sMeFTwqrnVP"
      },
      "execution_count": 5,
      "outputs": []
    },
    {
      "cell_type": "code",
      "source": [
        "find_hospital(age=90,sex='male',risk=0.7)"
      ],
      "metadata": {
        "colab": {
          "base_uri": "https://localhost:8080/",
          "height": 36
        },
        "id": "ilSon61B20a3",
        "outputId": "f120fad9-9700-4c44-b273-4cbd7e158f95"
      },
      "execution_count": 6,
      "outputs": [
        {
          "output_type": "execute_result",
          "data": {
            "text/plain": [
              "'Wesley Woods Geriatric Hospital'"
            ],
            "application/vnd.google.colaboratory.intrinsic+json": {
              "type": "string"
            }
          },
          "metadata": {},
          "execution_count": 6
        }
      ]
    },
    {
      "cell_type": "code",
      "execution_count": 7,
      "metadata": {
        "colab": {
          "base_uri": "https://localhost:8080/"
        },
        "id": "RzrFCsKYlPt4",
        "outputId": "c7fec579-eb17-424a-90df-8cd56cdd7984"
      },
      "outputs": [
        {
          "output_type": "stream",
          "name": "stdout",
          "text": [
            "Finding tests in NoName\n",
            "Trying:\n",
            "    find_hospital(age=20,sex='female',risk=0.06)\n",
            "Expecting:\n",
            "    'Select Specialty Hospital - Northeast Atlanta'\n",
            "ok\n",
            "Trying:\n",
            "    find_hospital(age=50,sex='male',risk=0.50)\n",
            "Expecting:\n",
            "    'Emory Dunwoody Medical Center'\n",
            "ok\n",
            "Trying:\n",
            "    find_hospital(age=90,sex='unknown',risk=0.8)==None\n",
            "Expecting:\n",
            "    True\n",
            "ok\n"
          ]
        }
      ],
      "source": [
        "import doctest\n",
        "doctest.run_docstring_examples(find_hospital, globals(),verbose=True)"
      ]
    },
    {
      "cell_type": "markdown",
      "metadata": {
        "id": "dw4rOtnFlPt4"
      },
      "source": [
        "## Part 3: Get the address for that hospital from a JSON file\n",
        "\n",
        "Great! Now we have code to tell us which hospital to send someone to... but we don't know where that hospital is. The next function we need to create is one that looks up the address of that hospital.  All of these hospitals are in Atlanta, Georgia.  We're going to use the list from this webpage to lookup the address for that hospital, based on its name.  https://www.officialusa.com/stateguides/health/hospitals/georgia.html\n",
        "\n",
        "Because we skipped the section about Beautiful Soup and working with HTML, I've converted this information into a JSON document for you.  It's available for you here.  Your code should retrieve this file using the `requests` module.\n",
        "\n",
        "`https://drive.google.com/uc?export=download&id=1fIFD-NkcdiMu941N4GjyMDWxiKsFJBw-`\n",
        "\n",
        "1. You need to create a function called **get_address()** that takes hospital name as a parameter and searches the data from this JSON file for the hospital you want to find.\n",
        "2. Your code will have to load the JSON and return the correct hospital based on name.\n",
        "3. If the hospital name isn't found, the function should return None.\n",
        "4. Be sure to use good docstring documentation and includes at least 3 test cases."
      ]
    },
    {
      "cell_type": "code",
      "execution_count": 8,
      "metadata": {
        "id": "PIfLqGwwlPt5"
      },
      "outputs": [],
      "source": [
        "import requests\n",
        "import json\n",
        "\n",
        "def get_address(hospital='abc'):\n",
        "  \"\"\"\n",
        "\n",
        "  (str)-> str\n",
        "  Here we have a website where there is a json file full of hospital lists with their information. we have initially a dictionary where the keys in it were hospital names with uppercase\n",
        "  then each hospital values are again a dictionary that contain the hospital details. we need to access that address key values. Initially we are accessing the link using requests. Then we are collecting\n",
        "  the text from the response. then with open function we are creating hospital.json in write mode as info, then we are writing the text from the response to info where it will be directly saved in hospital.json\n",
        "\n",
        "  Now we are loading the file by opening using json module. Now the loaded data is a dictionary. we see the input parameter, which is a hospital name, we are going to call hospital name if input hospital name\n",
        "  is in dictionary keys. If it is present then we call the hospital and access Address key to obtain hospital address.\n",
        "\n",
        "  >>> get_address('Select Specialty Hospital - Northeast Atlanta')\n",
        "  '1821 CLIFTON ROAD NE'\n",
        "\n",
        "\n",
        "  >>> get_address('Emory Dunwoody Medical Center')\n",
        "  '4500 NORTH SHALLOWFORD ROAD'\n",
        "\n",
        "  >>> get_address('Wesley Woods Geriatric Hospital')\n",
        "  '1821 CLIFTON ROAD, NE'\n",
        "\n",
        "  \"\"\"\n",
        "\n",
        "\n",
        "  data=requests.get('https://hds5210-data.s3.amazonaws.com/ga_hospitals.json')\n",
        "\n",
        "  with open('hospital.json','w') as info:\n",
        "    info.write(data.text)\n",
        "\n",
        "  hospitals=json.load(open('hospital.json'))\n",
        "  hospital_list=hospitals.keys()\n",
        "\n",
        "  if hospital.upper() in hospital_list:\n",
        "    return hospitals[hospital.upper()]['ADDRESS']\n",
        "\n",
        "  else:\n",
        "    return None"
      ]
    },
    {
      "cell_type": "code",
      "source": [
        "get_address('Wesley Woods Geriatric Hospital')"
      ],
      "metadata": {
        "colab": {
          "base_uri": "https://localhost:8080/",
          "height": 36
        },
        "id": "pTy-OalWA3wh",
        "outputId": "a7a46f52-f659-435a-9fb0-131e1b210d12"
      },
      "execution_count": 9,
      "outputs": [
        {
          "output_type": "execute_result",
          "data": {
            "text/plain": [
              "'1821 CLIFTON ROAD, NE'"
            ],
            "application/vnd.google.colaboratory.intrinsic+json": {
              "type": "string"
            }
          },
          "metadata": {},
          "execution_count": 9
        }
      ]
    },
    {
      "cell_type": "code",
      "source": [
        "import doctest\n",
        "doctest.run_docstring_examples(get_address, globals(),verbose=True)"
      ],
      "metadata": {
        "colab": {
          "base_uri": "https://localhost:8080/"
        },
        "id": "fL7eeWgHP7kZ",
        "outputId": "1f6bdb9a-1438-453b-b126-66e299f3d11b"
      },
      "execution_count": 10,
      "outputs": [
        {
          "output_type": "stream",
          "name": "stdout",
          "text": [
            "Finding tests in NoName\n",
            "Trying:\n",
            "    get_address('Select Specialty Hospital - Northeast Atlanta')\n",
            "Expecting:\n",
            "    '1821 CLIFTON ROAD NE'\n",
            "ok\n",
            "Trying:\n",
            "    get_address('Emory Dunwoody Medical Center')\n",
            "Expecting:\n",
            "    '4500 NORTH SHALLOWFORD ROAD'\n",
            "ok\n",
            "Trying:\n",
            "    get_address('Wesley Woods Geriatric Hospital')\n",
            "Expecting:\n",
            "    '1821 CLIFTON ROAD, NE'\n",
            "ok\n"
          ]
        }
      ]
    },
    {
      "cell_type": "markdown",
      "metadata": {
        "id": "rYx7bzSwlPt6"
      },
      "source": [
        "## Part 4: Run the risk calculator on a population\n",
        "\n",
        "At the link below, there is a file called `people.psv`.  It is a pipe-delimited (`|`) file with columns that match the inputs for the PRIEST calculation above.  Your code should use the `requests` module to retrieve the file from this URL.\n",
        "\n",
        "`https://drive.google.com/uc?export=download&id=1fLxJN9YGUqmqExrilxSS8furwUER5HHh`\n",
        "\n",
        "\n",
        "In addition, the file has a patient identifier in the first column.\n",
        "\n",
        "1. Write a function called **process_people()** that takes the file location above as its only parameter. Your Python program should use your code above to process all of these rows, determine the hospital and address, and return a list whose items are a dictionary like this: `{ patient_number: [sex, age, breath, o2sat, heart, systolic, temp, alertness, inspired, status, hospital, address]}`.  Look at the file in Part 5 for what the output looks like.\n",
        "2. Be sure to use good docstrings, but you don't need any tests in your doc strings.  I've provided those for you withe file in Part 5.\n",
        "\n",
        "\n",
        "**NOTE** that when running your code for all the 100 records in the `people.psv` file, it may take a few minutes to complete.  You're making multiple calls to the internet for each record, so that can take a little while.\n"
      ]
    },
    {
      "cell_type": "code",
      "execution_count": 11,
      "metadata": {
        "id": "2I9G-L3IlPt6"
      },
      "outputs": [],
      "source": [
        "url='https://hds5210-data.s3.amazonaws.com/people.psv'\n",
        "def process_people(url):\n",
        "  \"\"\"\n",
        "\n",
        "  (str) -> dict\n",
        "  we are accessing the data in the website above which is a psv file where we have pipeline delimiter. we are using requests module to access the data by loading data from response text.\n",
        "  there will be many lines in psv file but according to the file there were 100 lines where if we see it in text the lines were seperated using '\\n' so we are splitting the data using split function.\n",
        "  we are using a condition that the line should be seperated at '\\n'. Now we are saving them in a variable called lines. we create a empty dictionary for loading the data. Now in each line we have pipeline in\n",
        "  between each column data. we are going to split the line using split function and split at delimiter '|' after applying for loop for lines. now we can use index to access each and every column related\n",
        "  patient data. and we also convert the string to integers and floats as following.\n",
        "\n",
        "  --Note-- we have first row where it is column names and the last row where it is empty row. so we use slicing method to remove the last row and first row [1:-1] but in new link we have only 1st row issue\n",
        "  so we used [1:]slicing method.\n",
        "\n",
        "  now in order to obtain hospital name we need to calculate risk using the patient data in their respective rows. we also obtain patient hospital address by using hospital.\n",
        "\n",
        "  Now we are loading the empty list using key as patient Id and the list of their data as their value.\n",
        "\n",
        "  Now we are loading that data into a variable called data.\n",
        "\n",
        "\n",
        "  \"\"\"\n",
        "  report=requests.get(url)\n",
        "  lines=report.text.split('\\n')\n",
        "\n",
        "  lines=lines[1:]\n",
        "  patients={}\n",
        "  for line in lines :\n",
        "    line      = line.split('|')\n",
        "    sex       = line[1]\n",
        "    age       = int(line[2])\n",
        "    breath    = float(line[3])\n",
        "    o2sat     = float(line[4])\n",
        "    heart     = float(line[5])\n",
        "    systolic  = float(line[6])\n",
        "    temp      = float(line[7])\n",
        "    alertness = line[8]\n",
        "    inspired  = line[9]\n",
        "    status    = line[10]\n",
        "\n",
        "\n",
        "    score     = priest(sex=sex,\n",
        "                       age=age,\n",
        "                       respiratory_rate=breath,\n",
        "                       oxygen_saturation=o2sat,\n",
        "                       heart_rate=heart, systolic_bp=systolic,\n",
        "                       temperature=temp,\n",
        "                       alertness=alertness,\n",
        "                       inspired_oxygen=inspired,\n",
        "                       performance_status=\tstatus)\n",
        "\n",
        "    hospital  = find_hospital(age=age,sex=sex,risk=score)\n",
        "\n",
        "    address   = get_address(hospital)\n",
        "\n",
        "    patients[line[0]]=[sex, age, breath, o2sat, heart, systolic, temp, alertness, inspired, status, score, hospital, address]\n",
        "\n",
        "  return patients\n",
        "\n",
        "# Saving the data in data variable\n",
        "data=process_people(url)"
      ]
    },
    {
      "cell_type": "markdown",
      "metadata": {
        "id": "EPljS2IHlPt6"
      },
      "source": [
        "## Part 5: Checking your final results\n",
        "\n",
        "The final step is to check your results.  You should be able to compare your results to the output in `people_results.json` at the link below.  Write some code to check your results.  This does not need to be a function.\n",
        "\n",
        "`https://drive.google.com/uc?export=download&id=1gx1SSC20mO5XL6uYD0mdcM_cL91fcIW5`\n"
      ]
    },
    {
      "cell_type": "code",
      "execution_count": 12,
      "metadata": {
        "colab": {
          "base_uri": "https://localhost:8080/"
        },
        "id": "gAdUyvh0lPt6",
        "outputId": "23373a06-00ff-47fc-a736-b97941912945"
      },
      "outputs": [
        {
          "output_type": "stream",
          "name": "stdout",
          "text": [
            "The Both were Same\n"
          ]
        }
      ],
      "source": [
        "## We need to call the data from the url above provided. it is a json file.\n",
        "\n",
        "## In order to load this data we need to first save this file locally. because the above created variable is a dictionary.\n",
        "\n",
        "## When we load a json file we obtain it as a dictionary.\n",
        "\n",
        "import requests\n",
        "import json\n",
        "url='https://hds5210-data.s3.amazonaws.com/people_results.json'\n",
        "check=requests.get(url)\n",
        "\n",
        "## We are creating a new file called people_results.json in write mode as results.\n",
        "\n",
        "## Now we are writing each and every data in that json file\n",
        "with open('people_results.json','w') as results:\n",
        "  results.write(check.text)\n",
        "\n",
        "# Now locally saved json file is loaded through json module in result.\n",
        "result=json.load(open('people_results.json'))\n",
        "\n",
        "## We kept a condition that if both files matches each other then the following string should print. if doesn't matched then the else statement should print.\n",
        "if result == data:\n",
        "  print('The Both were Same')\n",
        "\n",
        "else:\n",
        "  print('The Both Were Not Same')"
      ]
    },
    {
      "cell_type": "markdown",
      "metadata": {
        "id": "OBlw1YwjlPt6"
      },
      "source": [
        "---\n",
        "\n",
        "## Check your work above\n",
        "\n",
        "If you didn't get them all correct, take a few minutes to think through those that aren't correct.\n",
        "\n",
        "\n",
        "## Submitting Your Work\n",
        "\n",
        "Submit your work as usual into a folder named `midterm`"
      ]
    },
    {
      "cell_type": "markdown",
      "metadata": {
        "id": "yd2XYwvblPt7"
      },
      "source": [
        "---"
      ]
    }
  ],
  "metadata": {
    "kernelspec": {
      "display_name": "Python 3",
      "name": "python3"
    },
    "language_info": {
      "codemirror_mode": {
        "name": "ipython",
        "version": 3
      },
      "file_extension": ".py",
      "mimetype": "text/x-python",
      "name": "python",
      "nbconvert_exporter": "python",
      "pygments_lexer": "ipython3",
      "version": "3.9.16"
    },
    "colab": {
      "provenance": []
    }
  },
  "nbformat": 4,
  "nbformat_minor": 0
}