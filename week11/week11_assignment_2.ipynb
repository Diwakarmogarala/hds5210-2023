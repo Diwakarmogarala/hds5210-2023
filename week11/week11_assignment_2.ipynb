{
  "cells": [
    {
      "cell_type": "markdown",
      "metadata": {
        "id": "u-eFPSfQFkR-"
      },
      "source": [
        "# Week 11 Assignment\n",
        "\n",
        "\n",
        "Please do the programming exercise and verify that your code works using the tests, then think about your final project and fill out the questions in the second part.\n",
        "\n",
        "---\n",
        "---"
      ]
    },
    {
      "cell_type": "markdown",
      "metadata": {
        "id": "eMZ0vM4aFkSA"
      },
      "source": [
        "### 47.1: Filtering and summarizing data\n",
        "\n",
        "For this work, you'll find a data file in `https://hds5210-data.s3.amazonaws.com/complications_all.csv`.\n",
        "\n",
        "Read in the data file and create a variable called `mo_hospitals` that contains a data frame from the `complications_all.csv` file, filtered down to only contain those hospitals from the state of Missouri (MO).\n",
        "\n",
        "Then aggregate that data by hospital into a variable named `mo_summary`.  There are some key fields that we want to summarize:\n",
        "* We want to know the earliest date that each hospital was participating in any program\n",
        "* We want to know the latest date that each hospital stopped participating in any program\n",
        "* We want to know the total number of patients in the denominators of these programs\n",
        "\n",
        "Some things to note:\n",
        "* You will need to convert the `Start Date` and `End Date` to actual datetime fields\n",
        "* You will need to clean up and convert the `Denominator` field to just be numeric - the rule that you should use it to simply remove any records where the `Denominator` is `'Not Available'`\n",
        "\n",
        "\n",
        "The final result of this step should be a new data frame called `mo_summary` that contains one row for each hospital and contains the min start date, max end date, and total denominator.  Use the names `start_date`, `end_date`, and `number` for those columns in `mo_summary`.\n",
        "\n",
        "\n",
        "You do not need to create your code in the form of a function, just make sure your variable names match what I've described above so the tests work."
      ]
    },
    {
      "cell_type": "code",
      "execution_count": 1,
      "metadata": {
        "id": "NZW7luQbFkSB"
      },
      "outputs": [],
      "source": [
        "import pandas as pd\n",
        "hospitals = pd.read_csv('https://hds5210-data.s3.amazonaws.com/complications_all.csv')"
      ]
    },
    {
      "cell_type": "code",
      "source": [
        "# Do you work here and in as many cells as you need to create a variable called `mo_summary` that matches the requirements\n",
        "mo_hospitals =hospitals[hospitals['State']=='MO']    ## I have seperated the missouri state data and loaded in mo_hospitals"
      ],
      "metadata": {
        "id": "G8skVuJ83SQn"
      },
      "execution_count": 2,
      "outputs": []
    },
    {
      "cell_type": "code",
      "source": [
        "## Filtering the hospitals by removing the data that Denominator values having 'Not Available'\n",
        "mo_hospitals = mo_hospitals[mo_hospitals['Denominator']!='Not Available']"
      ],
      "metadata": {
        "id": "ja8QWJuO3Vzt"
      },
      "execution_count": 3,
      "outputs": []
    },
    {
      "cell_type": "code",
      "source": [
        "## data type Conversions.\n",
        "mo_hospitals['Start Date'],mo_hospitals['End Date'] = pd.to_datetime(mo_hospitals['Start Date']),pd.to_datetime(mo_hospitals['End Date'])\n",
        "mo_hospitals['Denominator']= pd.to_numeric(mo_hospitals['Denominator'])"
      ],
      "metadata": {
        "id": "p65Vh5lQ4jkf"
      },
      "execution_count": 4,
      "outputs": []
    },
    {
      "cell_type": "code",
      "execution_count": 7,
      "metadata": {
        "colab": {
          "base_uri": "https://localhost:8080/",
          "height": 423
        },
        "id": "__T0D8oEFkSF",
        "outputId": "f6a1f010-72fc-49ab-f77b-f0f41c0d966b"
      },
      "outputs": [
        {
          "output_type": "execute_result",
          "data": {
            "text/plain": [
              "                                         start_date   end_date  number\n",
              "MERCY HOSPITAL JOPLIN                    2015-04-01 2018-06-30   29977\n",
              "COOPER COUNTY COMMUNITY HOSPITAL         2015-07-01 2018-06-30     697\n",
              "SSM HEALTH ST JOSEPH HOSPITAL-ST CHARLES 2015-04-01 2018-06-30   23443\n",
              "MOSAIC LIFE CARE AT ST JOSEPH            2015-04-01 2018-06-30   54860\n",
              "BOTHWELL REGIONAL HEALTH CENTER          2015-04-01 2018-06-30   14717\n",
              "...                                             ...        ...     ...\n",
              "I-70 COMMUNITY HOSPITAL                  2015-07-01 2018-06-30      26\n",
              "MERCY ST FRANCIS HOSPITAL                2015-07-01 2018-06-30      60\n",
              "IRON COUNTY MEDICAL CENTER               2015-07-01 2018-06-30      99\n",
              "MISSOURI BAPTIST SULLIVAN HOSPITAL       2015-07-01 2018-06-30     275\n",
              "MERCY HOSPITAL CARTHAGE                  2015-07-01 2018-06-30     153\n",
              "\n",
              "[108 rows x 3 columns]"
            ],
            "text/html": [
              "\n",
              "  <div id=\"df-c1bee615-39c6-4b88-875c-ee31569c9d20\" class=\"colab-df-container\">\n",
              "    <div>\n",
              "<style scoped>\n",
              "    .dataframe tbody tr th:only-of-type {\n",
              "        vertical-align: middle;\n",
              "    }\n",
              "\n",
              "    .dataframe tbody tr th {\n",
              "        vertical-align: top;\n",
              "    }\n",
              "\n",
              "    .dataframe thead th {\n",
              "        text-align: right;\n",
              "    }\n",
              "</style>\n",
              "<table border=\"1\" class=\"dataframe\">\n",
              "  <thead>\n",
              "    <tr style=\"text-align: right;\">\n",
              "      <th></th>\n",
              "      <th>start_date</th>\n",
              "      <th>end_date</th>\n",
              "      <th>number</th>\n",
              "    </tr>\n",
              "  </thead>\n",
              "  <tbody>\n",
              "    <tr>\n",
              "      <th>MERCY HOSPITAL JOPLIN</th>\n",
              "      <td>2015-04-01</td>\n",
              "      <td>2018-06-30</td>\n",
              "      <td>29977</td>\n",
              "    </tr>\n",
              "    <tr>\n",
              "      <th>COOPER COUNTY COMMUNITY HOSPITAL</th>\n",
              "      <td>2015-07-01</td>\n",
              "      <td>2018-06-30</td>\n",
              "      <td>697</td>\n",
              "    </tr>\n",
              "    <tr>\n",
              "      <th>SSM HEALTH ST JOSEPH HOSPITAL-ST CHARLES</th>\n",
              "      <td>2015-04-01</td>\n",
              "      <td>2018-06-30</td>\n",
              "      <td>23443</td>\n",
              "    </tr>\n",
              "    <tr>\n",
              "      <th>MOSAIC LIFE CARE AT ST JOSEPH</th>\n",
              "      <td>2015-04-01</td>\n",
              "      <td>2018-06-30</td>\n",
              "      <td>54860</td>\n",
              "    </tr>\n",
              "    <tr>\n",
              "      <th>BOTHWELL REGIONAL HEALTH CENTER</th>\n",
              "      <td>2015-04-01</td>\n",
              "      <td>2018-06-30</td>\n",
              "      <td>14717</td>\n",
              "    </tr>\n",
              "    <tr>\n",
              "      <th>...</th>\n",
              "      <td>...</td>\n",
              "      <td>...</td>\n",
              "      <td>...</td>\n",
              "    </tr>\n",
              "    <tr>\n",
              "      <th>I-70 COMMUNITY HOSPITAL</th>\n",
              "      <td>2015-07-01</td>\n",
              "      <td>2018-06-30</td>\n",
              "      <td>26</td>\n",
              "    </tr>\n",
              "    <tr>\n",
              "      <th>MERCY ST FRANCIS HOSPITAL</th>\n",
              "      <td>2015-07-01</td>\n",
              "      <td>2018-06-30</td>\n",
              "      <td>60</td>\n",
              "    </tr>\n",
              "    <tr>\n",
              "      <th>IRON COUNTY MEDICAL CENTER</th>\n",
              "      <td>2015-07-01</td>\n",
              "      <td>2018-06-30</td>\n",
              "      <td>99</td>\n",
              "    </tr>\n",
              "    <tr>\n",
              "      <th>MISSOURI BAPTIST SULLIVAN HOSPITAL</th>\n",
              "      <td>2015-07-01</td>\n",
              "      <td>2018-06-30</td>\n",
              "      <td>275</td>\n",
              "    </tr>\n",
              "    <tr>\n",
              "      <th>MERCY HOSPITAL CARTHAGE</th>\n",
              "      <td>2015-07-01</td>\n",
              "      <td>2018-06-30</td>\n",
              "      <td>153</td>\n",
              "    </tr>\n",
              "  </tbody>\n",
              "</table>\n",
              "<p>108 rows × 3 columns</p>\n",
              "</div>\n",
              "    <div class=\"colab-df-buttons\">\n",
              "\n",
              "  <div class=\"colab-df-container\">\n",
              "    <button class=\"colab-df-convert\" onclick=\"convertToInteractive('df-c1bee615-39c6-4b88-875c-ee31569c9d20')\"\n",
              "            title=\"Convert this dataframe to an interactive table.\"\n",
              "            style=\"display:none;\">\n",
              "\n",
              "  <svg xmlns=\"http://www.w3.org/2000/svg\" height=\"24px\" viewBox=\"0 -960 960 960\">\n",
              "    <path d=\"M120-120v-720h720v720H120Zm60-500h600v-160H180v160Zm220 220h160v-160H400v160Zm0 220h160v-160H400v160ZM180-400h160v-160H180v160Zm440 0h160v-160H620v160ZM180-180h160v-160H180v160Zm440 0h160v-160H620v160Z\"/>\n",
              "  </svg>\n",
              "    </button>\n",
              "\n",
              "  <style>\n",
              "    .colab-df-container {\n",
              "      display:flex;\n",
              "      gap: 12px;\n",
              "    }\n",
              "\n",
              "    .colab-df-convert {\n",
              "      background-color: #E8F0FE;\n",
              "      border: none;\n",
              "      border-radius: 50%;\n",
              "      cursor: pointer;\n",
              "      display: none;\n",
              "      fill: #1967D2;\n",
              "      height: 32px;\n",
              "      padding: 0 0 0 0;\n",
              "      width: 32px;\n",
              "    }\n",
              "\n",
              "    .colab-df-convert:hover {\n",
              "      background-color: #E2EBFA;\n",
              "      box-shadow: 0px 1px 2px rgba(60, 64, 67, 0.3), 0px 1px 3px 1px rgba(60, 64, 67, 0.15);\n",
              "      fill: #174EA6;\n",
              "    }\n",
              "\n",
              "    .colab-df-buttons div {\n",
              "      margin-bottom: 4px;\n",
              "    }\n",
              "\n",
              "    [theme=dark] .colab-df-convert {\n",
              "      background-color: #3B4455;\n",
              "      fill: #D2E3FC;\n",
              "    }\n",
              "\n",
              "    [theme=dark] .colab-df-convert:hover {\n",
              "      background-color: #434B5C;\n",
              "      box-shadow: 0px 1px 3px 1px rgba(0, 0, 0, 0.15);\n",
              "      filter: drop-shadow(0px 1px 2px rgba(0, 0, 0, 0.3));\n",
              "      fill: #FFFFFF;\n",
              "    }\n",
              "  </style>\n",
              "\n",
              "    <script>\n",
              "      const buttonEl =\n",
              "        document.querySelector('#df-c1bee615-39c6-4b88-875c-ee31569c9d20 button.colab-df-convert');\n",
              "      buttonEl.style.display =\n",
              "        google.colab.kernel.accessAllowed ? 'block' : 'none';\n",
              "\n",
              "      async function convertToInteractive(key) {\n",
              "        const element = document.querySelector('#df-c1bee615-39c6-4b88-875c-ee31569c9d20');\n",
              "        const dataTable =\n",
              "          await google.colab.kernel.invokeFunction('convertToInteractive',\n",
              "                                                    [key], {});\n",
              "        if (!dataTable) return;\n",
              "\n",
              "        const docLinkHtml = 'Like what you see? Visit the ' +\n",
              "          '<a target=\"_blank\" href=https://colab.research.google.com/notebooks/data_table.ipynb>data table notebook</a>'\n",
              "          + ' to learn more about interactive tables.';\n",
              "        element.innerHTML = '';\n",
              "        dataTable['output_type'] = 'display_data';\n",
              "        await google.colab.output.renderOutput(dataTable, element);\n",
              "        const docLink = document.createElement('div');\n",
              "        docLink.innerHTML = docLinkHtml;\n",
              "        element.appendChild(docLink);\n",
              "      }\n",
              "    </script>\n",
              "  </div>\n",
              "\n",
              "\n",
              "<div id=\"df-7831e0cb-3f53-48ca-bd23-2dc46b4f265d\">\n",
              "  <button class=\"colab-df-quickchart\" onclick=\"quickchart('df-7831e0cb-3f53-48ca-bd23-2dc46b4f265d')\"\n",
              "            title=\"Suggest charts\"\n",
              "            style=\"display:none;\">\n",
              "\n",
              "<svg xmlns=\"http://www.w3.org/2000/svg\" height=\"24px\"viewBox=\"0 0 24 24\"\n",
              "     width=\"24px\">\n",
              "    <g>\n",
              "        <path d=\"M19 3H5c-1.1 0-2 .9-2 2v14c0 1.1.9 2 2 2h14c1.1 0 2-.9 2-2V5c0-1.1-.9-2-2-2zM9 17H7v-7h2v7zm4 0h-2V7h2v10zm4 0h-2v-4h2v4z\"/>\n",
              "    </g>\n",
              "</svg>\n",
              "  </button>\n",
              "\n",
              "<style>\n",
              "  .colab-df-quickchart {\n",
              "      --bg-color: #E8F0FE;\n",
              "      --fill-color: #1967D2;\n",
              "      --hover-bg-color: #E2EBFA;\n",
              "      --hover-fill-color: #174EA6;\n",
              "      --disabled-fill-color: #AAA;\n",
              "      --disabled-bg-color: #DDD;\n",
              "  }\n",
              "\n",
              "  [theme=dark] .colab-df-quickchart {\n",
              "      --bg-color: #3B4455;\n",
              "      --fill-color: #D2E3FC;\n",
              "      --hover-bg-color: #434B5C;\n",
              "      --hover-fill-color: #FFFFFF;\n",
              "      --disabled-bg-color: #3B4455;\n",
              "      --disabled-fill-color: #666;\n",
              "  }\n",
              "\n",
              "  .colab-df-quickchart {\n",
              "    background-color: var(--bg-color);\n",
              "    border: none;\n",
              "    border-radius: 50%;\n",
              "    cursor: pointer;\n",
              "    display: none;\n",
              "    fill: var(--fill-color);\n",
              "    height: 32px;\n",
              "    padding: 0;\n",
              "    width: 32px;\n",
              "  }\n",
              "\n",
              "  .colab-df-quickchart:hover {\n",
              "    background-color: var(--hover-bg-color);\n",
              "    box-shadow: 0 1px 2px rgba(60, 64, 67, 0.3), 0 1px 3px 1px rgba(60, 64, 67, 0.15);\n",
              "    fill: var(--button-hover-fill-color);\n",
              "  }\n",
              "\n",
              "  .colab-df-quickchart-complete:disabled,\n",
              "  .colab-df-quickchart-complete:disabled:hover {\n",
              "    background-color: var(--disabled-bg-color);\n",
              "    fill: var(--disabled-fill-color);\n",
              "    box-shadow: none;\n",
              "  }\n",
              "\n",
              "  .colab-df-spinner {\n",
              "    border: 2px solid var(--fill-color);\n",
              "    border-color: transparent;\n",
              "    border-bottom-color: var(--fill-color);\n",
              "    animation:\n",
              "      spin 1s steps(1) infinite;\n",
              "  }\n",
              "\n",
              "  @keyframes spin {\n",
              "    0% {\n",
              "      border-color: transparent;\n",
              "      border-bottom-color: var(--fill-color);\n",
              "      border-left-color: var(--fill-color);\n",
              "    }\n",
              "    20% {\n",
              "      border-color: transparent;\n",
              "      border-left-color: var(--fill-color);\n",
              "      border-top-color: var(--fill-color);\n",
              "    }\n",
              "    30% {\n",
              "      border-color: transparent;\n",
              "      border-left-color: var(--fill-color);\n",
              "      border-top-color: var(--fill-color);\n",
              "      border-right-color: var(--fill-color);\n",
              "    }\n",
              "    40% {\n",
              "      border-color: transparent;\n",
              "      border-right-color: var(--fill-color);\n",
              "      border-top-color: var(--fill-color);\n",
              "    }\n",
              "    60% {\n",
              "      border-color: transparent;\n",
              "      border-right-color: var(--fill-color);\n",
              "    }\n",
              "    80% {\n",
              "      border-color: transparent;\n",
              "      border-right-color: var(--fill-color);\n",
              "      border-bottom-color: var(--fill-color);\n",
              "    }\n",
              "    90% {\n",
              "      border-color: transparent;\n",
              "      border-bottom-color: var(--fill-color);\n",
              "    }\n",
              "  }\n",
              "</style>\n",
              "\n",
              "  <script>\n",
              "    async function quickchart(key) {\n",
              "      const quickchartButtonEl =\n",
              "        document.querySelector('#' + key + ' button');\n",
              "      quickchartButtonEl.disabled = true;  // To prevent multiple clicks.\n",
              "      quickchartButtonEl.classList.add('colab-df-spinner');\n",
              "      try {\n",
              "        const charts = await google.colab.kernel.invokeFunction(\n",
              "            'suggestCharts', [key], {});\n",
              "      } catch (error) {\n",
              "        console.error('Error during call to suggestCharts:', error);\n",
              "      }\n",
              "      quickchartButtonEl.classList.remove('colab-df-spinner');\n",
              "      quickchartButtonEl.classList.add('colab-df-quickchart-complete');\n",
              "    }\n",
              "    (() => {\n",
              "      let quickchartButtonEl =\n",
              "        document.querySelector('#df-7831e0cb-3f53-48ca-bd23-2dc46b4f265d button');\n",
              "      quickchartButtonEl.style.display =\n",
              "        google.colab.kernel.accessAllowed ? 'block' : 'none';\n",
              "    })();\n",
              "  </script>\n",
              "</div>\n",
              "    </div>\n",
              "  </div>\n"
            ]
          },
          "metadata": {},
          "execution_count": 7
        }
      ],
      "source": [
        "# Here I created empty lists because I am creating a data frame. For values we need lists.\n",
        "rows=[]\n",
        "hospitals=[]\n",
        "for hospital in mo_hospitals['Facility Name'].unique(): # For analyzing we need to access each and every hospital separately. so we can find start and end dates.\n",
        "\n",
        "  dataframe = mo_hospitals[mo_hospitals['Facility Name']==hospital]  ## Filtering data Frame as per hospitals\n",
        "\n",
        "  Start_Date = dataframe['Start Date'].min()   ## Obtaining hospital Start date\n",
        "\n",
        "  End_date = dataframe['End Date'].max()    ## Obtaining Hospital recent programme performed end date\n",
        "\n",
        "  patients = sum(dataframe['Denominator'])   ## summing all the value in Denominator of respective hospitals\n",
        "\n",
        "\n",
        "  rows.append([Start_Date,End_date,patients])   ## We are maxing a row and we are appending this row in rows.\n",
        "\n",
        "  hospitals.append(hospital)  ## Here we are appending the hospitals in a list.\n",
        "\n",
        "mo_summary = pd.DataFrame(rows,                                       ## Here we are creating a dataframe called mo_summary, we are loading the rows where it's index is\n",
        "                          index=hospitals,                            ## hospitals name list and columns parameter were entered manually as per the assert functions.\n",
        "                          columns=['start_date', 'end_date','number'])\n",
        "mo_summary"
      ]
    },
    {
      "cell_type": "code",
      "execution_count": 8,
      "metadata": {
        "id": "W8aWb1HCFkSF"
      },
      "outputs": [],
      "source": [
        "assert(mo_summary['number'].sum() == 1766908)\n",
        "assert(mo_summary['start_date'].min() == pd.Timestamp(2015,4,1))\n",
        "assert(mo_summary['end_date'].max() == pd.Timestamp(2018,6,30))\n",
        "assert(mo_summary.shape == (108,3))\n",
        "assert(mo_summary.loc['BARNES JEWISH HOSPITAL'].number == 131313)\n",
        "assert(mo_summary.loc['BOONE HOSPITAL CENTER'].number == 63099)"
      ]
    },
    {
      "cell_type": "markdown",
      "metadata": {
        "id": "SiSNlTO4FkSF"
      },
      "source": [
        "---\n",
        "\n",
        "### 47.2 Planning your final project\n",
        "\n",
        "You should be thinking about the things we've been learning and how you can apply them to your final project.  Use the rubric to help guid your thinking and then answer the questions below.  This is meant as a guide to help you think through what you will do."
      ]
    },
    {
      "cell_type": "markdown",
      "metadata": {
        "id": "bXX5R83GFkSF"
      },
      "source": [
        "#### A) Data Access\n",
        "\n",
        "Your project should include data from at least three distinct types of sources.  For example: AWS S3, Relational Databases, Internet, Web Services, local files.  List what data sources you're planning to use."
      ]
    },
    {
      "cell_type": "markdown",
      "metadata": {
        "id": "2162sIH0FkSF"
      },
      "source": [
        "I want to collect my datasets from the internet like Kaggle, Data World, Data.gov, and Google dataset search. I also use databases like Snowflake and big query. If I get any dataset from any institution, I will try them locally.   "
      ]
    },
    {
      "cell_type": "markdown",
      "metadata": {
        "id": "Yf3iAnDwFkSF"
      },
      "source": [
        "#### B. Data Formats\n",
        "\n",
        "Your project should include data that comes in different file formats.  For example: HL7, EDI, HTML, CSV, Excel, JSON, XML.  List what data formats you're planning to use."
      ]
    },
    {
      "cell_type": "markdown",
      "metadata": {
        "id": "w2NyvRPhFkSF"
      },
      "source": [
        "I would like to use CSV, HTML, Excel and JSON files."
      ]
    },
    {
      "cell_type": "markdown",
      "metadata": {
        "id": "1cHzU4hlFkSG"
      },
      "source": [
        "#### C. Objective\n",
        "\n",
        "What purpose would your project serve in a real work setting?  Take a couple of paragraphs to write down why this is an interesting product."
      ]
    },
    {
      "cell_type": "markdown",
      "metadata": {
        "id": "uRBLbcXHFkSG"
      },
      "source": [
        "I didn't figure how to do, but my goal is to search datasets and link them more efficiently so that we have a useful dataset. However, my main goal is to study cardiovascular illness so that I may use the data common points to associate heart failure and stroke. It will be a fantastic job for me if I locate any leads. So, a future method to create a machine learning model for predicting heart failure and strokes will make use of my dataset."
      ]
    },
    {
      "cell_type": "markdown",
      "metadata": {
        "id": "3MxvfIcFFkSG"
      },
      "source": [
        "\n",
        "\n",
        "---\n",
        "\n",
        "\n",
        "\n",
        "## Submit your work via GitHub as normal\n"
      ]
    }
  ],
  "metadata": {
    "kernelspec": {
      "display_name": "Python 3",
      "language": "python",
      "name": "python3"
    },
    "language_info": {
      "codemirror_mode": {
        "name": "ipython",
        "version": 3
      },
      "file_extension": ".py",
      "mimetype": "text/x-python",
      "name": "python",
      "nbconvert_exporter": "python",
      "pygments_lexer": "ipython3",
      "version": "3.9.16"
    },
    "colab": {
      "provenance": []
    }
  },
  "nbformat": 4,
  "nbformat_minor": 0
}