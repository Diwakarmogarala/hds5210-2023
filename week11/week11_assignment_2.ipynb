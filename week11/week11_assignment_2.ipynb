{
  "cells": [
    {
      "cell_type": "markdown",
      "metadata": {
        "id": "u-eFPSfQFkR-"
      },
      "source": [
        "# Week 11 Assignment\n",
        "\n",
        "\n",
        "Please do the programming exercise and verify that your code works using the tests, then think about your final project and fill out the questions in the second part.\n",
        "\n",
        "---\n",
        "---"
      ]
    },
    {
      "cell_type": "markdown",
      "metadata": {
        "id": "eMZ0vM4aFkSA"
      },
      "source": [
        "### 47.1: Filtering and summarizing data\n",
        "\n",
        "For this work, you'll find a data file in `https://hds5210-data.s3.amazonaws.com/complications_all.csv`.\n",
        "\n",
        "Read in the data file and create a variable called `mo_hospitals` that contains a data frame from the `complications_all.csv` file, filtered down to only contain those hospitals from the state of Missouri (MO).\n",
        "\n",
        "Then aggregate that data by hospital into a variable named `mo_summary`.  There are some key fields that we want to summarize:\n",
        "* We want to know the earliest date that each hospital was participating in any program\n",
        "* We want to know the latest date that each hospital stopped participating in any program\n",
        "* We want to know the total number of patients in the denominators of these programs\n",
        "\n",
        "Some things to note:\n",
        "* You will need to convert the `Start Date` and `End Date` to actual datetime fields\n",
        "* You will need to clean up and convert the `Denominator` field to just be numeric - the rule that you should use it to simply remove any records where the `Denominator` is `'Not Available'`\n",
        "\n",
        "\n",
        "The final result of this step should be a new data frame called `mo_summary` that contains one row for each hospital and contains the min start date, max end date, and total denominator.  Use the names `start_date`, `end_date`, and `number` for those columns in `mo_summary`.\n",
        "\n",
        "\n",
        "You do not need to create your code in the form of a function, just make sure your variable names match what I've described above so the tests work."
      ]
    },
    {
      "cell_type": "code",
      "execution_count": 83,
      "metadata": {
        "id": "NZW7luQbFkSB"
      },
      "outputs": [],
      "source": [
        "import pandas as pd\n",
        "hospitals = pd.read_csv('https://hds5210-data.s3.amazonaws.com/complications_all.csv')"
      ]
    },
    {
      "cell_type": "code",
      "execution_count": 95,
      "metadata": {
        "id": "__T0D8oEFkSF"
      },
      "outputs": [],
      "source": [
        "# Do you work here and in as many cells as you need to create a variable called `mo_summary` that matches the requirements\n",
        "mo_hospitals =mo_hospitals[mo_hospitals['State']=='MO']\n",
        "mo_hospitals = mo_hospitals[mo_hospitals['Denominator']!='Not Available']\n",
        "mod_mo_hospitals = mo_hospitals\n",
        "mod_mo_hospitals['Start Date'],mod_mo_hospitals['End Date'] = pd.to_datetime(mod_mo_hospitals['Start Date']),pd.to_datetime(mod_mo_hospitals['End Date'])\n",
        "mod_mo_hospitals['Denominator']= pd.to_numeric(mod_mo_hospitals['Denominator'])\n",
        "start_date=[]\n",
        "end_date=[]\n",
        "number=[]\n",
        "rows=[]\n",
        "hospitals=[]\n",
        "for hospital in mod_mo_hospitals['Facility Name'].unique():\n",
        "  dataframe = pd.DataFrame({})\n",
        "\n",
        "  dataframe = mod_mo_hospitals[mod_mo_hospitals['Facility Name']==hospital]\n",
        "\n",
        "  Start_Date = dataframe['Start Date'].min()\n",
        "\n",
        "  End_date = dataframe['End Date'].max()\n",
        "\n",
        "  patients = sum(dataframe['Denominator'])\n",
        "\n",
        "\n",
        "  rows.append([Start_Date,End_date,patients])\n",
        "\n",
        "  hospitals.append(hospital)\n",
        "\n",
        "mo_summary = pd.DataFrame(rows,\n",
        "                          index=hospitals,\n",
        "                          columns=['start_date', 'end_date','number'])"
      ]
    },
    {
      "cell_type": "code",
      "execution_count": 96,
      "metadata": {
        "id": "W8aWb1HCFkSF"
      },
      "outputs": [],
      "source": [
        "assert(mo_summary['number'].sum() == 1766908)\n",
        "assert(mo_summary['start_date'].min() == pd.Timestamp(2015,4,1))\n",
        "assert(mo_summary['end_date'].max() == pd.Timestamp(2018,6,30))\n",
        "assert(mo_summary.shape == (108,3))\n",
        "assert(mo_summary.loc['BARNES JEWISH HOSPITAL'].number == 131313)\n",
        "assert(mo_summary.loc['BOONE HOSPITAL CENTER'].number == 63099)"
      ]
    },
    {
      "cell_type": "markdown",
      "metadata": {
        "id": "SiSNlTO4FkSF"
      },
      "source": [
        "---\n",
        "\n",
        "### 47.2 Planning your final project\n",
        "\n",
        "You should be thinking about the things we've been learning and how you can apply them to your final project.  Use the rubric to help guid your thinking and then answer the questions below.  This is meant as a guide to help you think through what you will do."
      ]
    },
    {
      "cell_type": "markdown",
      "metadata": {
        "id": "bXX5R83GFkSF"
      },
      "source": [
        "#### A) Data Access\n",
        "\n",
        "Your project should include data from at least three distinct types of sources.  For example: AWS S3, Relational Databases, Internet, Web Services, local files.  List what data sources you're planning to use."
      ]
    },
    {
      "cell_type": "markdown",
      "metadata": {
        "id": "2162sIH0FkSF"
      },
      "source": [
        "**Double-click to enter your answer**\n",
        "\n",
        "Put your answer here\n"
      ]
    },
    {
      "cell_type": "markdown",
      "metadata": {
        "id": "Yf3iAnDwFkSF"
      },
      "source": [
        "#### B. Data Formats\n",
        "\n",
        "Your project should include data that comes in different file formats.  For example: HL7, EDI, HTML, CSV, Excel, JSON, XML.  List what data formats you're planning to use."
      ]
    },
    {
      "cell_type": "markdown",
      "metadata": {
        "id": "w2NyvRPhFkSF"
      },
      "source": [
        "**Double-click to enter your answer**\n",
        "\n",
        "Put your answer here\n"
      ]
    },
    {
      "cell_type": "markdown",
      "metadata": {
        "id": "1cHzU4hlFkSG"
      },
      "source": [
        "#### C. Objective\n",
        "\n",
        "What purpose would your project serve in a real work setting?  Take a couple of paragraphs to write down why this is an interesting product."
      ]
    },
    {
      "cell_type": "markdown",
      "metadata": {
        "id": "uRBLbcXHFkSG"
      },
      "source": [
        "**Double-click to enter your answer**\n",
        "\n",
        "Put your answer here\n"
      ]
    },
    {
      "cell_type": "markdown",
      "metadata": {
        "id": "3MxvfIcFFkSG"
      },
      "source": [
        "\n",
        "\n",
        "---\n",
        "\n",
        "\n",
        "\n",
        "## Submit your work via GitHub as normal\n"
      ]
    }
  ],
  "metadata": {
    "kernelspec": {
      "display_name": "Python 3",
      "language": "python",
      "name": "python3"
    },
    "language_info": {
      "codemirror_mode": {
        "name": "ipython",
        "version": 3
      },
      "file_extension": ".py",
      "mimetype": "text/x-python",
      "name": "python",
      "nbconvert_exporter": "python",
      "pygments_lexer": "ipython3",
      "version": "3.9.16"
    },
    "colab": {
      "provenance": []
    }
  },
  "nbformat": 4,
  "nbformat_minor": 0
}