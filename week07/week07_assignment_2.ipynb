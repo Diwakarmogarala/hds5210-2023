{
  "cells": [
    {
      "cell_type": "markdown",
      "metadata": {
        "id": "lrLKppCg8eHY"
      },
      "source": [
        "# Week 7 Assignment\n",
        "\n",
        "We've been working with different types of data structures in Python (dictionary, list, etc), how those are represented in JSON documents, and how to write code to access specific data elements. In this week's assignment, you will need to create your own JSON document to store information about yourself and the grades you've received from week 1 to week 4 and the week 6 quiz.  That is, everything you should have received a grade for.  Then you'll need to show me you know how to navigate the JSON in that file.\n",
        "\n",
        "Different from what we've done in the past, you do not have to write any functions or include any docstrings.  Just create some JSON and write some code.\n",
        "\n",
        "---"
      ]
    },
    {
      "cell_type": "markdown",
      "metadata": {
        "id": "i4P0Nqi78eHa"
      },
      "source": [
        "## 7.1 Create a JSON string\n",
        "\n",
        "Create a JSON string that contains your name, email, year you were born, all of the grades you've received back so far, and a comment about what you thought was most challenging on each of those assignments.  This can be any structure you choose, but make sure it uses a dictionary and a list, and has at least two levels of hierarchy.  That is, it can't just be one big long list."
      ]
    },
    {
      "cell_type": "markdown",
      "metadata": {
        "id": "wJ_vlGxY8eHb"
      },
      "source": [
        "First, explain how your data structure is going to look..."
      ]
    },
    {
      "cell_type": "markdown",
      "metadata": {
        "id": "jtFI-gJ58eHb"
      },
      "source": [
        "* Put your explanation here in text..."
      ]
    },
    {
      "cell_type": "markdown",
      "metadata": {
        "id": "OYTQri1-8eHb"
      },
      "source": [
        "Then put the actual JSON you've created inside the multiline string below..."
      ]
    },
    {
      "cell_type": "code",
      "execution_count": 159,
      "metadata": {
        "id": "QAkXP96S8eHc"
      },
      "outputs": [],
      "source": [
        "hds5210 = \"\"\"\n",
        "{\"student\": [\n",
        "    {\n",
        "      \"Name\": \"Diwakar\",\n",
        "      \"Mail\": \"dmogarala@slu.edu\",\n",
        "      \"year_of_birth\": 1996,\n",
        "      \"Grades\": {\n",
        "        \"Week01\": {\n",
        "          \"Score\": \"10/10\",\n",
        "          \"Feedback\": {\n",
        "            \"Multiple_Choice\": [\"No Feedback\"],\n",
        "            \"Functionality\": [\"No Feedback\"],\n",
        "            \"Coding_Best_Practices\": [\"No Feedback\"]\n",
        "          },\n",
        "          \"Opinion\":\"It's been easy and it's a normal assignment\"\n",
        "        },\n",
        "        \"Week02\": {\n",
        "          \"Score\": \"10/10\",\n",
        "          \"Feedback\": {\n",
        "            \"Multiple_Choice\": [\n",
        "              \"Did you complete and submit the multiple choice part of the assignment?\",\n",
        "              \"--All good.\"\n",
        "            ],\n",
        "            \"Functionality\": [\n",
        "              \"Did your code do what the assignment required?\",\n",
        "              \"--Everything worked as expected\"\n",
        "            ],\n",
        "            \"Coding_Best_Practices\": [\n",
        "              \"Was your code readable, efficient, and in line with what we learned in class?\",\n",
        "              \"Good variable names?\",\n",
        "              \"--Nice choices in general\",\n",
        "              \"Generally easy to follow and understand?\",\n",
        "              \"--Good work. Nice use of branching logic in 5.6\"\n",
        "            ]\n",
        "          },\n",
        "          \"Opinion\":\"The 2nd week assignment is a bit challenging. Still I know many methods but I sticked to the assignment guidelines \"\n",
        "        },\n",
        "        \"Week03\": {\n",
        "          \"Score\": \"9.5/10\",\n",
        "          \"Feedback\": {\n",
        "            \"Multiple_Choice\": [\n",
        "              \"Did you complete and submit the multiple choice part of the assignment?\",\n",
        "              \"--Complete\"\n",
        "            ],\n",
        "            \"Functionality\": [\n",
        "              \"Did your code do what the assignment required?\",\n",
        "              \"--All code worked as expected\"\n",
        "            ],\n",
        "            \"Coding_Best_Practices\": [\n",
        "              \"Was your code readable, efficient, and in line with what we learned in class?\",\n",
        "              \"Good variable names?\",\n",
        "              \"--(-0.5) variable names like rr and point_1, point_2, etc., aren't very descriptive. Use names that reflect what the variable means.\"\n",
        "            ]\n",
        "          },\n",
        "          \"Opinion\":\"This assignment is little bit interesting to make functions based on formulaes and condition. And I liked to solve this.\"\n",
        "        },\n",
        "        \"Week04\": {\n",
        "          \"Score\": \"9/10\",\n",
        "          \"Feedback\": {\n",
        "            \"Multiple_Choice\": [\n",
        "              \"Did you complete and submit the multiple choice part of the assignment?\",\n",
        "              \"--Complete\"\n",
        "            ],\n",
        "            \"Functionality\": [\n",
        "              \"Did your code do what the assignment required?\",\n",
        "              \"--All code worked as expected\"\n",
        "            ],\n",
        "            \"Coding_Best_Practices\": [\n",
        "              \"Was your code readable, efficient, and in line with what we learned in class?\",\n",
        "              \"Good variable names?\",\n",
        "              \"--(-1) Make sure you always use variable names that are consistent with what the variable has\",\n",
        "              \"Code written into functions where appropriate?\",\n",
        "              \"Appropriate comments with your code?\",\n",
        "              \"Generally easy to follow and understand?\"\n",
        "            ]\n",
        "          },\n",
        "          \"Opinion\":\"This assignment was challenging. It took me a couple of hours to complete this. \"\n",
        "        },\n",
        "        \"Week06_Quiz\": {\n",
        "          \"Score\": \"17/20\",\n",
        "          \"Feedback\": {\n",
        "            \"Fill_in_the-blank\": [\n",
        "              \"Did you answer the data type questions correctly?\",\n",
        "              \"--All data types questions were answered correctly\"\n",
        "            ],\n",
        "            \"Functionality\": [\n",
        "              \"Did your code do what the assignment required?\",\n",
        "              \"  All code worked as expected\",\n",
        "              \"  --(-3) Your docstrings were supposed to include 5 tests\"\n",
        "            ],\n",
        "            \"Coding_Best_Practices\": [\"No comments\"]\n",
        "          },\n",
        "          \"Opinion\":\"This test is easy but I didn't take time to read but after completion, I just used one examples in docstring. If I read properly I may get 20/20\"\n",
        "        }\n",
        "\n",
        "      }\n",
        "    }\n",
        "  ]\n",
        "}\n",
        "\n",
        "\"\"\""
      ]
    },
    {
      "cell_type": "markdown",
      "metadata": {
        "id": "0Jx2Vmae8eHc"
      },
      "source": [
        "## 7.2 Do something with your JSON\n",
        "\n",
        "Now use Python code to do something with the Json above.  Turn it into English text, but make sure that you use at least one loop to access some dict or list content of your JSON.  Below, I've provided some basic code to read in the string above as JSON and return a Python object.  Your job is to work with that data structure and print out the important information like your name, email, and how you did on each assignment."
      ]
    },
    {
      "cell_type": "code",
      "execution_count": 161,
      "metadata": {
        "colab": {
          "base_uri": "https://localhost:8080/"
        },
        "id": "UlXjO3YD8eHc",
        "outputId": "b8adec33-733e-4c3a-ea55-798303dcaf5b"
      },
      "outputs": [
        {
          "output_type": "stream",
          "name": "stdout",
          "text": [
            "   Student Name  :  Diwakar\n",
            "         Mail Id :  dmogarala@slu.edu\n",
            "      Birth Year :  1996\n",
            "----------------------------------------------------------------------------------------------------------------------------------------------\n",
            " Assignment :  Week01\n",
            "The Score is  10/10\n",
            "    Multiple_Choice\n",
            "      No Feedback\n",
            "    Functionality\n",
            "      No Feedback\n",
            "    Coding_Best_Practices\n",
            "      No Feedback\n",
            "My opinion about assignment :  It's been easy and it's a normal assignment\n",
            "----------------------------------------------------------------------------------------------------------------------------------------------\n",
            " Assignment :  Week02\n",
            "The Score is  10/10\n",
            "    Multiple_Choice\n",
            "      Did you complete and submit the multiple choice part of the assignment?\n",
            "      --All good.\n",
            "    Functionality\n",
            "      Did your code do what the assignment required?\n",
            "      --Everything worked as expected\n",
            "    Coding_Best_Practices\n",
            "      Was your code readable, efficient, and in line with what we learned in class?\n",
            "      Good variable names?\n",
            "      --Nice choices in general\n",
            "      Generally easy to follow and understand?\n",
            "      --Good work. Nice use of branching logic in 5.6\n",
            "My opinion about assignment :  The 2nd week assignment is a bit challenging. Still I know many methods but I sticked to the assignment guidelines \n",
            "----------------------------------------------------------------------------------------------------------------------------------------------\n",
            " Assignment :  Week03\n",
            "The Score is  9.5/10\n",
            "    Multiple_Choice\n",
            "      Did you complete and submit the multiple choice part of the assignment?\n",
            "      --Complete\n",
            "    Functionality\n",
            "      Did your code do what the assignment required?\n",
            "      --All code worked as expected\n",
            "    Coding_Best_Practices\n",
            "      Was your code readable, efficient, and in line with what we learned in class?\n",
            "      Good variable names?\n",
            "      --(-0.5) variable names like rr and point_1, point_2, etc., aren't very descriptive. Use names that reflect what the variable means.\n",
            "My opinion about assignment :  This assignment is little bit interesting to make functions based on formulaes and condition. And I liked to solve this.\n",
            "----------------------------------------------------------------------------------------------------------------------------------------------\n",
            " Assignment :  Week04\n",
            "The Score is  9/10\n",
            "    Multiple_Choice\n",
            "      Did you complete and submit the multiple choice part of the assignment?\n",
            "      --Complete\n",
            "    Functionality\n",
            "      Did your code do what the assignment required?\n",
            "      --All code worked as expected\n",
            "    Coding_Best_Practices\n",
            "      Was your code readable, efficient, and in line with what we learned in class?\n",
            "      Good variable names?\n",
            "      --(-1) Make sure you always use variable names that are consistent with what the variable has\n",
            "      Code written into functions where appropriate?\n",
            "      Appropriate comments with your code?\n",
            "      Generally easy to follow and understand?\n",
            "My opinion about assignment :  This assignment was challenging. It took me a couple of hours to complete this. \n",
            "----------------------------------------------------------------------------------------------------------------------------------------------\n",
            " Assignment :  Week06_Quiz\n",
            "The Score is  17/20\n",
            "    Fill_in_the-blank\n",
            "      Did you answer the data type questions correctly?\n",
            "      --All data types questions were answered correctly\n",
            "    Functionality\n",
            "      Did your code do what the assignment required?\n",
            "        All code worked as expected\n",
            "        --(-3) Your docstrings were supposed to include 5 tests\n",
            "    Coding_Best_Practices\n",
            "      No comments\n",
            "My opinion about assignment :  This test is easy but I didn't take time to read but after completion, I just used one examples in docstring. If I read properly I may get 20/20\n"
          ]
        }
      ],
      "source": [
        "import json\n",
        "info = json.loads(hds5210)\n",
        "\n",
        "# Here we are printing student information. We used for loop to extract the json dictionary into keys and values\n",
        "# where keys is student and data is info of the student\n",
        "for student,data in info.items():\n",
        "  print('   Student Name  : ',data[0]['Name'])\n",
        "  print('         Mail Id : ',data[0]['Mail'])\n",
        "  print('      Birth Year : ',data[0]['year_of_birth'])\n",
        "\n",
        "\n",
        "# Here we can extract both keys and values by using items() but I am using keys() and printing score in each assignment.\n",
        "  for grades in data[0]['Grades'].keys():\n",
        "    print('----------------------------------------------------------------------------------------------------------------------------------------------')\n",
        "    print(' Assignment : ',grades)\n",
        "    print('The Score is ',data[0]['Grades'][grades]['Score'])\n",
        "\n",
        "\n",
        "# Here we are again creating a loop with items in feedback and we are printing feed back headings by providing some allignments.\n",
        "    for feedback, suggestions in data[0]['Grades'][grades]['Feedback'].items():\n",
        "      print('   ',feedback)\n",
        "\n",
        "# Here we are printing each and every string in each Feedback values.\n",
        "      for lines in suggestions:\n",
        "        print('     ',lines)\n",
        "    print('My opinion about assignment : ',data[0]['Grades'][grades]['Opinion'])"
      ]
    },
    {
      "cell_type": "markdown",
      "metadata": {
        "id": "5xw1LFF28eHc"
      },
      "source": [
        "## 7.3 Reflect\n",
        "\n",
        "Write a paragraph on any reflections you have. Was this hard? Easy?  What parts were most challenging or easiest? What did you like or dislike about the assignment?  Share whatever important thoughts you have abou this assignment."
      ]
    },
    {
      "cell_type": "markdown",
      "metadata": {
        "id": "tMSD5_vD8eHd"
      },
      "source": [
        "I thought its easy so I started it on monday. It's been easy for me to complete this asignment. Initially while creating a json file i was feeling hard. later learning from the errors. solving the errors is a bit interesting thing to me, like that I created the json file. The challenging part in this assignment is using for loops to extract my data from this json strings. I like the things that i used to allign them in an order.\n"
      ]
    },
    {
      "cell_type": "markdown",
      "metadata": {
        "id": "ad65QOuG8eHd"
      },
      "source": [
        "---\n",
        "\n",
        "# Example\n",
        "\n",
        "Below is an example of something similar, but this uses information my and my friend's kids instead of grades."
      ]
    },
    {
      "cell_type": "code",
      "execution_count": 62,
      "metadata": {
        "colab": {
          "base_uri": "https://localhost:8080/"
        },
        "id": "yL6kPjhp8eHd",
        "outputId": "e3676a16-6022-4d09-cf66-05f5b95f06fc"
      },
      "outputs": [
        {
          "output_type": "stream",
          "name": "stdout",
          "text": [
            "Hi, my name is Paul. I've got 3 kids. Their names are Ellie, Ada, Teddy.\n",
            "My friend, Anny has 1 kids. That's fewer than me. Their names are 1\n"
          ]
        }
      ],
      "source": [
        "hds5210 = \"\"\"\n",
        "{\n",
        "    \"me\": {\n",
        "        \"name\": \"Paul\",\n",
        "        \"kids\": [\"Ellie\", \"Ada\", \"Teddy\"]\n",
        "    },\n",
        "    \"friend\": {\n",
        "        \"name\": \"Anny\",\n",
        "        \"kids\": [\"Abby\"]\n",
        "    }\n",
        "}\n",
        "\"\"\"\n",
        "\n",
        "import json\n",
        "\n",
        "info = json.loads(hds5210)\n",
        "\n",
        "me = info[\"me\"][\"name\"]\n",
        "my_kids_count = len(info[\"me\"][\"kids\"])\n",
        "kids_list = \", \".join(info[\"me\"][\"kids\"])\n",
        "friend = info[\"friend\"][\"name\"]\n",
        "friends_kid_count = len(info[\"friend\"][\"kids\"])\n",
        "friend_kids = \", \".join(info[\"friend\"][\"kids\"])\n",
        "compare = \"more\" if friends_kid_count > my_kids_count else \"fewer\"\n",
        "\n",
        "print(f\"Hi, my name is {me}. I've got {my_kids_count} kids. Their names are {kids_list}.\")\n",
        "print(f\"My friend, {friend} has {friends_kid_count} kids. That's {compare} than me. Their names are {friends_kid_count}\")"
      ]
    },
    {
      "cell_type": "code",
      "source": [],
      "metadata": {
        "id": "7ObCEGEjdPnY"
      },
      "execution_count": null,
      "outputs": []
    }
  ],
  "metadata": {
    "kernelspec": {
      "display_name": "Python 3",
      "language": "python",
      "name": "python3"
    },
    "language_info": {
      "codemirror_mode": {
        "name": "ipython",
        "version": 3
      },
      "file_extension": ".py",
      "mimetype": "text/x-python",
      "name": "python",
      "nbconvert_exporter": "python",
      "pygments_lexer": "ipython3",
      "version": "3.9.16"
    },
    "colab": {
      "provenance": []
    }
  },
  "nbformat": 4,
  "nbformat_minor": 0
}