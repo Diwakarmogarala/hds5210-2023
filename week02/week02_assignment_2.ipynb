{
 "cells": [
  {
   "cell_type": "markdown",
   "metadata": {
    "id": "FBzbNwvKm1Xm",
    "nbgrader": {
     "grade": false,
     "grade_id": "intro",
     "locked": true,
     "schema_version": 1,
     "solution": false
    }
   },
   "source": [
    "# Week 2 Programming Exercises\n",
    "\n",
    "See: _McKinney 2.3_ and [Python Documentation](https://docs.python.org/3/tutorial/introduction.html) section 3.1.1 on using Python as a calculator.\n",
    "\n",
    "**At the begining of the semester, all of the workshop programming exercises will be structured a specific way to make it easier to verify for yourself that you're on the right track as well as easier for me to do a first pass on automated grading.  The structure of each question will require you to write a function using Python code. Don't worry that we haven't talked about functions yet. Just edit the code between** `### BEGIN SOLUTION` and `### END SOLUTION` **as shown in the example below.**\n"
   ]
  },
  {
   "cell_type": "markdown",
   "metadata": {
    "id": "loOeEt8cm1Xq"
   },
   "source": [
    "**WHAT I PROVIDE:**\n",
    "```\n",
    "def some_function(parameter1, parameter2):\n",
    "\n",
    "   ### BEGIN SOLUTION\n",
    "   x = -1\n",
    "   ### END SOLUTION\n",
    "   \n",
    "   return x\n",
    "```\n",
    "\n",
    "**WHAT YOU SHOULD DO:** Just change the parameter names (if you feel you need to) and the calculations between `### BEGIN SOLUTION` and `### END SOLUTION`.  This is just a made up example.\n",
    "```\n",
    "def some_function(a, b):\n",
    "\n",
    "   ### BEGIN SOLUTION\n",
    "   temp = a + b\n",
    "   x = temp / a * b\n",
    "   ### END SOLUTION\n",
    "   \n",
    "   return x\n",
    "```\n"
   ]
  },
  {
   "cell_type": "markdown",
   "metadata": {
    "id": "qeNADtiym1Xq"
   },
   "source": [
    "---\n",
    "---\n",
    "\n",
    "**Below each programming exercise are some tests (`assertions`) that verify your code is working correctly.  If any assertions fail, you know that something isnt' right with your code, but having all assertions pass doesn't necessarily mean your code is perfect, yet. You should also create your own tests to make sure your code is correct.**\n",
    "\n",
    "**For now, please don't change any function names**"
   ]
  },
  {
   "cell_type": "markdown",
   "metadata": {
    "id": "COMN3sAem1Xr",
    "nbgrader": {
     "grade": false,
     "grade_id": "bmi",
     "locked": true,
     "schema_version": 1,
     "solution": false
    }
   },
   "source": [
    "### 5.1 BMI Calculation\n",
    "\n",
    "Create new names for the variables that you need in the code framework below and use the variables to compute the corresponding body mass index (BMI). You can use any meaningful variable names you like. When you compute the BMI, assign a variable to it, and then print the result to the notebook's output.\n",
    "\n",
    "* Weght in kilograms is 90.7\n",
    "* Height in meters in 1.82\n",
    "\n",
    "Note that a simple BMI calculation is weight in kilograms divided by the square of height in meters.\n",
    "\n",
    "$ bmi = \\frac{weight\\,\\mathrm{kg}}{(height\\,\\mathrm{m})^2} $\n",
    "\n",
    "For this problem, you'll be graded both on proper calculation as well as on programming style and appropriate variables names.\n",
    "\n",
    "_Also note that BMI should not be considered a universal measure of health or fitness. A health BMI can vary greatly depending on many other fitness conditions and body types._"
   ]
  },
  {
   "cell_type": "code",
   "execution_count": 1,
   "metadata": {
    "id": "OFE-gDYYm1Xr",
    "nbgrader": {
     "grade": false,
     "grade_id": "bmi-answer",
     "locked": false,
     "schema_version": 1,
     "solution": true
    }
   },
   "outputs": [],
   "source": [
    "def bmi(weight_kg, height_m):\n",
    "\n",
    "    # 1. Change the names of parameter1 and parameter2 to be something more meaningful\n",
    "    # 2. Change the name of the return variable below\n",
    "\n",
    "    ### As the formula mentioned above\n",
    "    BMI = (weight_kg)/(height_m)**2\n",
    "    ### Here we get BMI\n",
    "\n",
    "    return BMI"
   ]
  },
  {
   "cell_type": "markdown",
   "metadata": {
    "id": "twIHSbw1m1Xs",
    "nbgrader": {
     "grade": false,
     "grade_id": "bmi-validate",
     "locked": true,
     "schema_version": 1,
     "solution": false
    }
   },
   "source": [
    "Test your code below.  The BMI for a weight of 90.7 kg and height of 182 cm should be approximately 27.38"
   ]
  },
  {
   "cell_type": "code",
   "execution_count": 2,
   "metadata": {
    "id": "kC4-c3clm1Xt",
    "nbgrader": {
     "grade": true,
     "grade_id": "bmi-test",
     "locked": true,
     "points": 0,
     "schema_version": 1,
     "solution": false
    }
   },
   "outputs": [],
   "source": [
    "assert round(bmi(90.7, 1.82), 2) == 27.38\n",
    "assert round(bmi(91, 1.80), 2) == 28.09\n",
    "assert round(bmi(70, 1.70), 2) == 24.22"
   ]
  },
  {
   "cell_type": "code",
   "execution_count": 3,
   "metadata": {
    "colab": {
     "base_uri": "https://localhost:8080/"
    },
    "id": "5kKLR4Cwm1Xt",
    "outputId": "6c90fcf9-94e6-412d-b365-507c44525ab7"
   },
   "outputs": [
    {
     "data": {
      "text/plain": [
       "27.38"
      ]
     },
     "execution_count": 3,
     "metadata": {},
     "output_type": "execute_result"
    }
   ],
   "source": [
    "round(bmi(90.7, 1.82),2)    # Rounding the values upto 2 decimals."
   ]
  },
  {
   "cell_type": "markdown",
   "metadata": {
    "id": "jazZy86Qm1Xt"
   },
   "source": [
    "### 5.2 Weight from BMI\n",
    "\n",
    "For the next operation, we're going to calculate Weight in kilograms, given someone's BMI and their height in meters.\n",
    "\n",
    "This calculation will be:  $ weight\\,\\mathrm{kg} = {bmi}\\times{(height\\,\\mathrm{m})^2} $"
   ]
  },
  {
   "cell_type": "code",
   "execution_count": 4,
   "metadata": {
    "id": "rabYMMAbm1Xu"
   },
   "outputs": [],
   "source": [
    "def weight(bmi, height_m):\n",
    "\n",
    "    ### This is the case where height will be given and we obtain weight through BMI\n",
    "    weight_kg=bmi*(height_m)**2\n",
    "    ### Here we get Weight in kg\n",
    "\n",
    "    return weight_kg"
   ]
  },
  {
   "cell_type": "code",
   "execution_count": 5,
   "metadata": {
    "id": "y0kzeELMm1Xu"
   },
   "outputs": [],
   "source": [
    "assert round(weight(27.38, 1.82),2) == 90.69\n",
    "assert round(weight(28.09, 1.80),2) == 91.01\n",
    "assert round(weight(24.22, 1.70),2) == 70.00"
   ]
  },
  {
   "cell_type": "code",
   "execution_count": null,
   "metadata": {
    "id": "v42uq0OSm1Xu"
   },
   "outputs": [],
   "source": []
  },
  {
   "cell_type": "markdown",
   "metadata": {
    "id": "K6drIblSm1Xu"
   },
   "source": [
    "### 5.3 Height from BMI\n",
    "\n",
    "\n",
    "For the next operation, we're going to calculate height in meters, given someone's BMI and their weight in kilograms.\n",
    "\n",
    "This calculation will be:  $ {height\\,\\mathrm{m}} = \\sqrt{\\frac{weight\\,\\mathrm{kg}}{bmi}} $\n",
    "\n",
    "For this equation, you'll notice that we need to calculate a square root.  Python has a function for this of course, `sqrt`, but that function is not part of the base Python language. Some Python features have to be imported.  The first line of code below imports the `sqrt` function from the [math](https://docs.python.org/3/library/math.html) library.\n"
   ]
  },
  {
   "cell_type": "code",
   "execution_count": 6,
   "metadata": {
    "id": "Kw1Emowpm1Xv"
   },
   "outputs": [],
   "source": [
    "from math import sqrt\n",
    "def height(bmi, weight_kg):\n",
    "\n",
    "    ### BEGIN SOLUTION\n",
    "    ## In Math module we have inbuilt function sqrt\n",
    "    height = sqrt((weight_kg) / (bmi))\n",
    "    ### END SOLUTION\n",
    "\n",
    "    return height"
   ]
  },
  {
   "cell_type": "code",
   "execution_count": 7,
   "metadata": {
    "id": "VNyytTKim1Xv"
   },
   "outputs": [],
   "source": [
    "assert round(height(27.38, 90.69),2) == 1.82\n",
    "assert round(height(28.09, 91.01),2) == 1.80\n",
    "assert round(height(24.22, 70.00),2) == 1.70"
   ]
  },
  {
   "cell_type": "code",
   "execution_count": null,
   "metadata": {
    "id": "xbPTi_0xm1Xv"
   },
   "outputs": [],
   "source": []
  },
  {
   "cell_type": "markdown",
   "metadata": {
    "id": "WmLniUFxm1Xv"
   },
   "source": [
    "### 5.4 BMI using Feet, Inches, and Pounds\n",
    "\n",
    "Now, let's try to to create a function that knows how to first convert between imperial units (US inches and pounds) and SI units before calculating the bmi.  For these calculations use:\n",
    "\n",
    "* $ 1\\,\\mathrm{inch} = 2.54\\,\\mathrm{cm} $\n",
    "* $ 1\\,\\mathrm{lb} = 0.45454545\\,\\mathrm{kg} $\n"
   ]
  },
  {
   "cell_type": "code",
   "execution_count": 8,
   "metadata": {
    "id": "gdbiFIKlm1Xv"
   },
   "outputs": [],
   "source": [
    "def bmi_us(weight_lb, height_ft, height_in):\n",
    "\n",
    "    ### BEGIN SOLUTION\n",
    "    ## Initially we have height in feet and inches. So, we convert feets to inches and sum up both. Then convert inches to meters.\n",
    "    height = (height_ft * 12) + (height_in)\n",
    "    height *=0.0254\n",
    "    ##\n",
    "    weight_kg = weight_lb * 0.45454545\n",
    "    answer = (weight_kg)/(height)**2\n",
    "    ### END SOLUTION\n",
    "\n",
    "    return answer"
   ]
  },
  {
   "cell_type": "code",
   "execution_count": 9,
   "metadata": {
    "id": "-IgFawcvm1Xv"
   },
   "outputs": [],
   "source": [
    "assert round(bmi_us(250,6,4),2) == 30.49\n",
    "assert round(bmi_us(120,5,0),2) == 23.48\n",
    "assert round(bmi_us(130,5,10),2) == 18.69"
   ]
  },
  {
   "cell_type": "markdown",
   "metadata": {
    "id": "3qi6_6Vem1Xv",
    "nbgrader": {
     "grade": false,
     "grade_id": "weight",
     "locked": true,
     "schema_version": 1,
     "solution": false
    }
   },
   "source": [
    "### 5.5 Target BMI\n",
    "Assuming that someone doesn't change height over time, what is the approximate number of days it will take for someone to get from the BMI you found in #3 above to a BMI of 24.9 (typically regarded as being in a healthy range) while losing weight at a rate of 0.75 kg per week.\n",
    "\n",
    "As needed, use variables and multiple calculation steps to make your thought process visible in the code. For instance, rather than using the notebook as a calculator, use variables for intermediate answers.\n",
    "\n",
    "Again, you will receive points both for correct answers as well as for style.\n",
    "\n",
    "In addition to the bmi, height, and weight equations we already defined above, here is some of the algebra to help you along:\n",
    "\n",
    "$ height\\,\\mathrm{m} = \\frac{height\\,\\mathrm{cm}}{100} $\n",
    "\n",
    "$ days = {weeks} x {7} $\n",
    "\n",
    "$ weeks\\,required\\,to\\,change\\,weight = \\frac{current\\,weight - target\\,weight}{weight\\,change\\,per\\,week} $"
   ]
  },
  {
   "cell_type": "code",
   "execution_count": 10,
   "metadata": {
    "id": "cE8hfg3im1Xw",
    "nbgrader": {
     "grade": false,
     "grade_id": "weight-answer",
     "locked": false,
     "schema_version": 1,
     "solution": true
    }
   },
   "outputs": [],
   "source": [
    "def lose_weight(weight, height, kg_per_week, target_bmi):\n",
    "\n",
    "    # Note that the variables you need area already named for you:\n",
    "    # height is the height in cm\n",
    "    # weight is the weight in kg\n",
    "    # kg_per_week is how much the person wants to lose per week\n",
    "    # target_bmi is the intended target bmi\n",
    "\n",
    "    ### BEGIN SOLUTION\n",
    "    ## Required weight of Person.\n",
    "    target_weight = target_bmi * (height / 100) ** 2\n",
    "    ## We got required weight. So we deduct the actual weight with required weight and then divide with 0.75. So we get weeks required to obtain the target weight\n",
    "    week = (weight - target_weight) / kg_per_week\n",
    "    ## Now we get weeks, so we multiply week with 7 so we get days.\n",
    "    days = week * 7\n",
    "    ### END SOLUTION\n",
    "\n",
    "    return days"
   ]
  },
  {
   "cell_type": "markdown",
   "metadata": {
    "id": "S22QyVLjm1Xw"
   },
   "source": [
    "Test your code below.  It should return approximately 76.73 days for the given parameters above."
   ]
  },
  {
   "cell_type": "code",
   "execution_count": 11,
   "metadata": {
    "colab": {
     "base_uri": "https://localhost:8080/"
    },
    "id": "Bg9q1cm1KPyv",
    "outputId": "32bed584-a26a-41c4-e21b-1f99fdb9da91"
   },
   "outputs": [
    {
     "data": {
      "text/plain": [
       "59.92"
      ]
     },
     "execution_count": 11,
     "metadata": {},
     "output_type": "execute_result"
    }
   ],
   "source": [
    "round(lose_weight(70, 170, 0.75, 22),2)"
   ]
  },
  {
   "cell_type": "code",
   "execution_count": 12,
   "metadata": {
    "id": "uskcnLgtm1Xw",
    "nbgrader": {
     "grade": true,
     "grade_id": "weight-tests",
     "locked": true,
     "points": 5,
     "schema_version": 1,
     "solution": false
    }
   },
   "outputs": [],
   "source": [
    "assert round(lose_weight(90.7, 182, 0.75, 24.9),2) == 76.73\n",
    "assert round(lose_weight(91, 180, 0.75, 24.9),2) == 96.36\n",
    "assert round(lose_weight(70, 170, 0.75, 22),2) == 59.92\n",
    "assert round(lose_weight(70, 170, 2, 22),2) == 22.47\n"
   ]
  },
  {
   "cell_type": "code",
   "execution_count": 13,
   "metadata": {
    "colab": {
     "base_uri": "https://localhost:8080/"
    },
    "id": "9i72J21dm1Xw",
    "outputId": "ee5608a0-0d9b-4f47-f384-6ae60051db16"
   },
   "outputs": [
    {
     "data": {
      "text/plain": [
       "76.73157333333342"
      ]
     },
     "execution_count": 13,
     "metadata": {},
     "output_type": "execute_result"
    }
   ],
   "source": [
    "lose_weight(90.7, 182, 0.75, 24.9)"
   ]
  },
  {
   "cell_type": "markdown",
   "metadata": {
    "id": "1LU6cS5dm1Xw"
   },
   "source": [
    "---\n",
    "\n",
    "### 5.6 Your choice\n",
    "\n",
    "Every one of us has done projects where some kind of simple mathematical calculators are required.  Think about something recent from your field of expertise or an area of interest. Choose something that you find interesting and write the Python code required to do that calculation.  These examples show the level of complexity you need to have (not very complex).\n",
    "\n",
    "* $ bmr_{male} = 66 + (13.7 \\times weight\\,\\mathrm{kg}) + (5 \\times height\\,\\mathrm{m}) - (6.8 \\times age\\,\\mathrm{yr}) $\n",
    "\n",
    "* $ bmr_{female} = 655 + (9.6 \\times weight\\,\\mathrm{kg}) + (1.8 \\times height\\,\\mathrm{cm}) - (4.7 \\times age\\,\\mathrm{yr}) $\n",
    "\n",
    "* $ Batting\\,Average = \\frac{Total\\,Hits}{Total\\,at\\,Bats} $\n",
    "\n",
    "* $ Area\\,of\\,circle = \\pi r^2 $\n",
    "\n",
    "* $ F = \\frac{1}{2} m v^2 $\n",
    "\n",
    "Then provide the code for how you would use variables and example values to do the calculation.  You do not to wrap this in a Python function. Just include the code and variables as I've shown below with the BMI calculation that we've been using. As the last command in the cell, print out the value of your calculation as shown in my example.\n"
   ]
  },
  {
   "cell_type": "code",
   "execution_count": 14,
   "metadata": {
    "colab": {
     "base_uri": "https://localhost:8080/"
    },
    "id": "aXyg4kAgm1Xw",
    "outputId": "a48a9bcf-7e35-4bcc-ef58-623dde9d4dbd"
   },
   "outputs": [],
   "source": [
    "# Defining bmr function for males and females\n",
    "## Bmr rectification for men = 66 + (13.7 * weight [kg]) + (5 * size [cm]) − (6.8 * age [years])\n",
    "def bmr(weight_kg, height_cm, age_yr,gender='m'):\n",
    "    if gender == 'm' or gender == 'M':\n",
    "        bmr_m= 66 + (13.7 * weight_kg) + (5 * height_cm) - (6.8 * age_yr)\n",
    "        print('The basic metabolic rate of a person with following details were', bmr_m)\n",
    "    elif gender == 'f' or gender == 'F':\n",
    "        bmr_f= 655 + (9.6 * weight_kg) + (1.8 * height_cm) - (4.7 * age_yr)\n",
    "        print('The basic metabolic rate of a person with following details were', bmr_f)\n",
    "    elif gender != 'm' or gender!='f' or gender!='M' or gender!='F':\n",
    "        print('Error Found in Gender')"
   ]
  },
  {
   "cell_type": "code",
   "execution_count": 15,
   "metadata": {},
   "outputs": [
    {
     "name": "stdout",
     "output_type": "stream",
     "text": [
      "The basic metabolic rate of a person with following details were 1962.2\n"
     ]
    }
   ],
   "source": [
    "bmr(90,168,26,'m')"
   ]
  },
  {
   "cell_type": "code",
   "execution_count": 16,
   "metadata": {},
   "outputs": [
    {
     "name": "stdout",
     "output_type": "stream",
     "text": [
      "The basic metabolic rate of a person with following details were 1699.2\n"
     ]
    }
   ],
   "source": [
    "bmr(90,168,26,'f')"
   ]
  },
  {
   "cell_type": "markdown",
   "metadata": {
    "id": "efPWHBljm1Xw"
   },
   "source": [
    "---\n",
    "\n",
    "## Check your work above\n",
    "\n",
    "If you didn't get them all correct, take a few minutes to think through those that aren't correct.\n",
    "\n",
    "\n",
    "## Submitting Your Work\n",
    "\n",
    "In order to submit your work, you'll need to save this notebook file back to GitHub.  To do that in Google Colab:\n",
    "1. File -> Save a Copy in GitHub\n",
    "2. Make sure your HDS5210 repository is selected\n",
    "3. Make sure the file name includes the week number like this: `week02/week02_assignment_2.ipynb`\n",
    "4. Add a commit message that means something\n",
    "\n",
    "**Be sure week names are lowercase and use a two digit week number!!**\n",
    "\n",
    "**Be sure you use the same file name provided by the instructor!!**\n",
    "\n"
   ]
  }
 ],
 "metadata": {
  "celltoolbar": "Create Assignment",
  "colab": {
   "provenance": []
  },
  "kernelspec": {
   "display_name": "Python 3 (ipykernel)",
   "language": "python",
   "name": "python3"
  },
  "language_info": {
   "codemirror_mode": {
    "name": "ipython",
    "version": 3
   },
   "file_extension": ".py",
   "mimetype": "text/x-python",
   "name": "python",
   "nbconvert_exporter": "python",
   "pygments_lexer": "ipython3",
   "version": "3.9.7"
  }
 },
 "nbformat": 4,
 "nbformat_minor": 1
}
