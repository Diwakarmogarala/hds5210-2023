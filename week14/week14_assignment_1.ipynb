{
  "cells": [
    {
      "cell_type": "markdown",
      "metadata": {
        "id": "yb1s6STodNoT"
      },
      "source": [
        "# Nothing to do"
      ]
    },
    {
      "cell_type": "markdown",
      "metadata": {
        "id": "ASi6T2r_dNoV"
      },
      "source": [
        "There is no \"assignment_1\" file this week.  :)"
      ]
    },
    {
      "cell_type": "markdown",
      "metadata": {
        "id": "gjxz2CxrdNoW"
      },
      "source": []
    }
  ],
  "metadata": {
    "language_info": {
      "name": "python"
    },
    "colab": {
      "provenance": []
    }
  },
  "nbformat": 4,
  "nbformat_minor": 0
}