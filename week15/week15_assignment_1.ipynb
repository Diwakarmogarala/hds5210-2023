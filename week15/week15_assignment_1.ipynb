{
  "cells": [
    {
      "cell_type": "markdown",
      "metadata": {
        "id": "biDjPKymXl6Y"
      },
      "source": [
        "# Nothing to do"
      ]
    },
    {
      "cell_type": "markdown",
      "metadata": {
        "id": "5v3r6KAhXl6Z"
      },
      "source": [
        "There is no \"assignment_1\" file this week.  :)"
      ]
    },
    {
      "cell_type": "markdown",
      "metadata": {
        "id": "rs_Mja24Xl6Z"
      },
      "source": []
    }
  ],
  "metadata": {
    "language_info": {
      "name": "python"
    },
    "colab": {
      "provenance": []
    }
  },
  "nbformat": 4,
  "nbformat_minor": 0
}